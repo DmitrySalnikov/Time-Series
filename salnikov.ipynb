{
 "cells": [
  {
   "cell_type": "code",
   "execution_count": 1,
   "metadata": {
    "code_folding": [
     0
    ],
    "colab": {},
    "colab_type": "code",
    "id": "6FDhB3ptAUTO"
   },
   "outputs": [],
   "source": [
    "# imports\n",
    "import pandas as pd\n",
    "import numpy as np\n",
    "import sklearn as sk\n",
    "from matplotlib import pyplot as plt\n",
    "from sklearn import linear_model\n",
    "from sklearn import tree\n",
    "from sklearn.model_selection import GridSearchCV\n",
    "#import nbimporter\n",
    "#from funcs import *\n",
    "from xgboost import XGBRegressor\n",
    "import copy"
   ]
  },
  {
   "cell_type": "code",
   "execution_count": 2,
   "metadata": {
    "code_folding": [
     0
    ],
    "colab": {},
    "colab_type": "code",
    "id": "DGuHQKJHAUT3"
   },
   "outputs": [],
   "source": [
    "def get_forw(i, winds, plot_fig = False):\n",
    "    X = np.array(data['series'+str(i)])\n",
    "    test = X[(n-test_ratio):n]\n",
    "    \n",
    "    MSE_dif = 10\n",
    "    cur_wind = -1\n",
    "    train_t = -1\n",
    "    test_t = -1\n",
    "    regr_res = -1\n",
    "    \n",
    "    for wind in winds:\n",
    "        m=n-wind\n",
    "        ntest = int((m-test_ratio+1)*cross_test)\n",
    "        ntrain = (m-test_ratio+1)-ntest\n",
    "        Xt = np.copy(X[0:wind])\n",
    "        for i in range(1,m+1):\n",
    "            Xt =  np.vstack((Xt,X[i:(i+wind)]))\n",
    "        train_loc = Xt[0:ntrain]\n",
    "        test_loc = Xt[ntrain:(m-test_ratio+1)]\n",
    "        regr = linear_model.LinearRegression()\n",
    "        regr.fit(train_loc[:,0:(wind-1)], train_loc[:,wind-1])\n",
    "        res_loc = regr.predict(test_loc[:,0:(wind-1)])\n",
    "        mse_loc = sk.metrics.mean_squared_error(res_loc, test_loc[:,wind-1])\n",
    "        if (mse_loc < MSE_dif):\n",
    "            MSE_dif = mse_loc\n",
    "            cur_wind = wind\n",
    "            train_t = np.copy(Xt[0:(m-test_ratio+1)])\n",
    "            test_t = np.copy(Xt[(m-test_ratio+1):(m+1)])\n",
    "            regr_res = regr\n",
    "\n",
    "    regr_res.fit(train_t[:,0:(cur_wind-1)], train_t[:,cur_wind-1])\n",
    "    res_dif = regr_res.predict(test_t[:,0:(cur_wind-1)])\n",
    "  \n",
    "    return(np.array([sk.metrics.mean_squared_error(res_dif, test), cur_wind]))"
   ]
  },
  {
   "cell_type": "code",
   "execution_count": 3,
   "metadata": {
    "code_folding": [
     0
    ],
    "colab": {},
    "colab_type": "code",
    "id": "weUrMTITAUUB"
   },
   "outputs": [],
   "source": [
    "def get_mse(winds, print_msg = True):\n",
    "    MSE = get_forw(1,winds)\n",
    "    for i in range(2,101):\n",
    "        MSE = np.vstack((MSE,get_forw(i,winds)))\n",
    "        # if (print_msg):\n",
    "        # print(\"Linear regression: MSE={}\".format(np.round(np.mean(MSE),3)))\n",
    "    return([np.mean(MSE[:,0]),MSE])"
   ]
  },
  {
   "cell_type": "code",
   "execution_count": 39,
   "metadata": {
    "code_folding": [
     0
    ],
    "colab": {},
    "colab_type": "code",
    "id": "DSV27rHPAUUJ"
   },
   "outputs": [],
   "source": [
    "def get_upper_bound(i, plot_fig = False):\n",
    "    X = np.array(data['series'+str(i)])\n",
    "    res = X[(n-test_ratio-1):(n-1)]\n",
    "    test = X[(n-test_ratio):n]\n",
    "    MSE = sk.metrics.mean_squared_error(res, test)\n",
    "   \n",
    "    if (plot_fig):\n",
    "        plt.plot(res)\n",
    "        plt.plot(test)\n",
    "        plt.show()\n",
    "\n",
    "    return(MSE)"
   ]
  },
  {
   "cell_type": "code",
   "execution_count": 40,
   "metadata": {
    "code_folding": [
     0
    ],
    "colab": {},
    "colab_type": "code",
    "id": "8NCoAXgoAUUQ"
   },
   "outputs": [],
   "source": [
    "def get_upper_bound_mse(plot_fig = False):\n",
    "    get_upper_bound(1,plot_fig)\n",
    "    MSE = []\n",
    "    for i in range(1,101):\n",
    "        MSE = np.append(MSE, get_upper_bound(i))\n",
    "    #print(\"Linear regression: upper bound MSE={}\".format(np.round(np.mean(MSE),3)))\n",
    "    return(np.mean(MSE))"
   ]
  },
  {
   "cell_type": "code",
   "execution_count": 41,
   "metadata": {
    "code_folding": [
     0
    ],
    "colab": {},
    "colab_type": "code",
    "id": "agxhbzfuAUUY"
   },
   "outputs": [],
   "source": [
    "def get_lower_bound(i, simple=False):\n",
    "    X = np.array(data['series'+str(i)])\n",
    "    X_dif = X[1:n]-X[0:(n-1)]\n",
    "    test_dif = X_dif[(n-test_ratio-1):(n-1)]\n",
    "    opt = np.var(test_dif)\n",
    "    opt_wind = 0\n",
    "    start = n-test_ratio-2 if simple else 1\n",
    "    for wind in range(start,n-test_ratio-1):\n",
    "        test_dif = np.copy(X_dif[(n-test_ratio-1):(n-1)])\n",
    "        for i in range(0,test_ratio):\n",
    "            test_dif[i] = test_dif[i] - np.mean(X_dif[(n-test_ratio-1 + i-wind):(n-test_ratio-1 + i)])\n",
    "        tmp = np.var(test_dif)\n",
    "        if (tmp < opt):\n",
    "            opt = tmp\n",
    "            opt_wind = wind\n",
    "\n",
    "    return([opt,opt_wind])"
   ]
  },
  {
   "cell_type": "code",
   "execution_count": 42,
   "metadata": {
    "code_folding": [
     0
    ],
    "colab": {},
    "colab_type": "code",
    "id": "o4NcVBJVAUUi"
   },
   "outputs": [],
   "source": [
    "def get_lower_bound_mse(simple=False):\n",
    "    MSE = []\n",
    "    winds = []\n",
    "    for i in range(1,101):\n",
    "        tmp = get_lower_bound(i,simple)\n",
    "        MSE = np.append(MSE, tmp[0])\n",
    "        winds = np.append(winds, tmp[1])\n",
    "    #print(\"Linear regression: lower bound MSE={}\".format(np.round(np.mean(MSE),3)))\n",
    "    return([np.mean(MSE), winds])"
   ]
  },
  {
   "cell_type": "code",
   "execution_count": 43,
   "metadata": {
    "code_folding": [
     0
    ],
    "colab": {},
    "colab_type": "code",
    "id": "Z98Q46ZJAUUu"
   },
   "outputs": [],
   "source": [
    "def get_bounds(simple=False):\n",
    "    lower_bound = get_lower_bound_mse(simple)\n",
    "    print(\"bounds MSE = ({}, {})\".format(*[np.round(lower_bound[0],3),np.round(get_upper_bound_mse(),3)]))\n",
    "    return(lower_bound[1])"
   ]
  },
  {
   "cell_type": "code",
   "execution_count": 51,
   "metadata": {
    "code_folding": [
     0
    ],
    "colab": {},
    "colab_type": "code",
    "id": "HGd_BAI_AUTh"
   },
   "outputs": [],
   "source": [
    "def get_dif(i,winds, meth, plot_fig = False):\n",
    "    X = np.array(data['series'+str(i)])\n",
    "    X_dif = X[1:n]-X[0:(n-1)]\n",
    "\n",
    "    MSE_dif = 10\n",
    "    cur_wind = -1\n",
    "    train_t = -1\n",
    "    test_t = -1\n",
    "    regr_res = -1\n",
    "    params = []\n",
    "    \n",
    "    for wind in winds:\n",
    "        #print(wind, end = '  ')\n",
    "        m=n-wind\n",
    "        Xt = X_dif[0:wind]\n",
    "        for i in range(1,m):\n",
    "            Xt =  np.vstack((Xt,X_dif[i:(i+wind)]))\n",
    "        train_loc = np.copy(Xt[0:(m-test_ratio)])\n",
    "        regr = meth(train_loc[:,0:(wind-1)], train_loc[:,wind-1])\n",
    "        mse_loc = regr[2]\n",
    "        #sk.metrics.mean_squared_error(regr[0].predict(train_loc[:,0:(wind-1)]), train_loc[:,wind-1]) \n",
    "        if (mse_loc < MSE_dif):\n",
    "            MSE_dif = mse_loc\n",
    "            cur_wind = wind\n",
    "            test_t = np.copy(Xt[(m-test_ratio):m])\n",
    "            regr_res = regr[0]\n",
    "            params = regr[1]\n",
    "        \n",
    "    res_dif = regr_res.predict(test_t[:,0:(cur_wind-1)])\n",
    "    \n",
    "    if (plot_fig):\n",
    "        plt.plot(res_dif+X[(n-test_ratio-1):(n-1)]) # res\n",
    "        plt.plot(X[(n-test_ratio):n]) # test\n",
    "        plt.show()\n",
    "    #for i in range(0,300):\n",
    "    #    print((res_dif[i]-test_t[i,cur_wind-1])**2)\n",
    "    return(np.append(np.array([sk.metrics.mean_squared_error(res_dif, test_t[:,cur_wind-1]), \n",
    "                               MSE_dif, cur_wind]), params))"
   ]
  },
  {
   "cell_type": "code",
   "execution_count": 52,
   "metadata": {
    "code_folding": [
     0
    ],
    "colab": {},
    "colab_type": "code",
    "id": "lVfTLGigAUTs"
   },
   "outputs": [],
   "source": [
    "def get_dif_mse(winds, meth, n_ser = 101, print_msg = True):\n",
    "    #print(1)\n",
    "    #print(end = '  ')\n",
    "    MSE = get_dif(1, winds, meth)\n",
    "    #print()\n",
    "    for i in range(2,n_ser):\n",
    "        #print(i)\n",
    "        #print(end = '  ')\n",
    "        MSE = np.vstack((MSE,get_dif(i, winds, meth)))\n",
    "        #print()\n",
    "        # if (print_msg):\n",
    "        # print(\"Linear regression by differences: MSE_dif={}\".format(np.round(np.mean(MSE),3)))\n",
    "    return(MSE)"
   ]
  },
  {
   "cell_type": "code",
   "execution_count": 54,
   "metadata": {
    "code_folding": [
     0
    ],
    "colab": {},
    "colab_type": "code",
    "id": "dOgSdpufAUVB"
   },
   "outputs": [],
   "source": [
    "def lin_regr(X, Y, fi=False):\n",
    "    regr = linear_model.LinearRegression(fit_intercept=fi)\n",
    "    params = {'n_jobs': [-1]}\n",
    "    dt_clf = GridSearchCV(regr, params, cv=3, n_jobs=-1, iid=False, \n",
    "                          verbose = 0, scoring='neg_mean_squared_error').fit(X, Y)\n",
    "    return [dt_clf.best_estimator_, 0, -dt_clf.best_score_]"
   ]
  },
  {
   "cell_type": "code",
   "execution_count": 55,
   "metadata": {
    "code_folding": [
     0
    ],
    "colab": {},
    "colab_type": "code",
    "id": "dOgSdpufAUVB"
   },
   "outputs": [],
   "source": [
    "def lin_regr_intercept(X, Y, fi=True):\n",
    "    regr = linear_model.LinearRegression(fit_intercept=fi)\n",
    "    params = {'n_jobs': [-1]}\n",
    "    dt_clf = GridSearchCV(regr, params, cv=3, n_jobs=-1, iid=False, \n",
    "                          verbose = 0, scoring='neg_mean_squared_error').fit(X, Y)\n",
    "    return [dt_clf.best_estimator_, 0, -dt_clf.best_score_]"
   ]
  },
  {
   "cell_type": "code",
   "execution_count": 56,
   "metadata": {
    "code_folding": [
     0
    ],
    "colab": {},
    "colab_type": "code",
    "id": "lYajcizEAUVL"
   },
   "outputs": [],
   "source": [
    "def lasso(X, Y, fi=False):\n",
    "    regr = sk.linear_model.LassoCV(verbose=False,n_jobs=-1, cv=3, fit_intercept=fi).fit(X, Y)\n",
    "    return [regr, regr.alpha_, min(np.mean(regr.mse_path_,1))]"
   ]
  },
  {
   "cell_type": "code",
   "execution_count": 57,
   "metadata": {
    "code_folding": [
     0
    ],
    "colab": {},
    "colab_type": "code",
    "id": "lYajcizEAUVL"
   },
   "outputs": [],
   "source": [
    "def lasso_intercept(X, Y, fi=True):\n",
    "    regr = sk.linear_model.LassoCV(verbose=False,n_jobs=-1, cv=3, fit_intercept=fi).fit(X, Y)\n",
    "    return [regr, regr.alpha_, min(np.mean(regr.mse_path_,1))]"
   ]
  },
  {
   "cell_type": "code",
   "execution_count": 58,
   "metadata": {
    "code_folding": [
     0
    ]
   },
   "outputs": [],
   "source": [
    "def tree(X, Y):\n",
    "    regr = sk.tree.DecisionTreeRegressor()\n",
    "    params = { 'max_depth': range(1,4),\n",
    "               'max_leaf_nodes': [5,15,25,50] }\n",
    "    dt_clf = GridSearchCV(regr, params, cv=3, n_jobs=-1, iid=False, verbose = 0, \n",
    "                          scoring='neg_mean_squared_error').fit(X, Y)\n",
    "    return [dt_clf.best_estimator_, np.array([dt_clf.best_params_['max_depth'], \n",
    "            dt_clf.best_params_['max_leaf_nodes']]), -dt_clf.best_score_]"
   ]
  },
  {
   "cell_type": "code",
   "execution_count": 59,
   "metadata": {
    "code_folding": []
   },
   "outputs": [],
   "source": [
    "def boost(X, Y):\n",
    "    regr = XGBRegressor(n_jobs=-1)\n",
    "    params = {\n",
    "        'n_estimators' : range(20,121,20),\n",
    "        'max_depth': range(1,4)\n",
    "    }\n",
    "    dt_clf = GridSearchCV(regr, params, cv=3, n_jobs=-1, iid=False, verbose = 0\n",
    "                          , scoring='neg_mean_squared_error').fit(X, Y)\n",
    "    return [dt_clf.best_estimator_,np.array([dt_clf.best_params_['n_estimators'], \n",
    "                                             dt_clf.best_params_['max_depth']]), -dt_clf.best_score_]"
   ]
  },
  {
   "cell_type": "markdown",
   "metadata": {},
   "source": [
    "# 1 тренд без шума"
   ]
  },
  {
   "cell_type": "code",
   "execution_count": 5,
   "metadata": {
    "code_folding": [
     0
    ]
   },
   "outputs": [],
   "source": [
    "# data, params\n",
    "data = pd.read_csv(\"series1/linear_trend.csv\")\n",
    "n = data.shape[0]\n",
    "test_perc = 0.3\n",
    "test_ratio = int(test_perc*n)\n",
    "cross_test = 0.35"
   ]
  },
  {
   "cell_type": "markdown",
   "metadata": {},
   "source": [
    "### По предыдущему значению"
   ]
  },
  {
   "cell_type": "code",
   "execution_count": 89,
   "metadata": {},
   "outputs": [
    {
     "data": {
      "text/plain": [
       "0.0"
      ]
     },
     "execution_count": 89,
     "metadata": {},
     "output_type": "execute_result"
    }
   ],
   "source": [
    "wn_min_err = []\n",
    "for i in range(1,101):\n",
    "    X = np.array(data['series'+str(i)])\n",
    "    X_dif = X[1:n]-X[0:(n-1)]\n",
    "    wn_min_err.append(sk.metrics.mean_squared_error(X_dif[(n-test_ratio-1):(n-1)], \n",
    "                                    X_dif[(n-test_ratio-2):(n-2)]))\n",
    "round(np.mean(wn_min_err), 10)"
   ]
  },
  {
   "cell_type": "markdown",
   "metadata": {},
   "source": [
    "### Linear regression"
   ]
  },
  {
   "cell_type": "code",
   "execution_count": 95,
   "metadata": {
    "scrolled": true
   },
   "outputs": [
    {
     "data": {
      "image/png": "[encoded data removed]",
      "text/plain": [
       "<Figure size 432x288 with 1 Axes>"
      ]
     },
     "metadata": {},
     "output_type": "display_data"
    },
    {
     "name": "stdout",
     "output_type": "stream",
     "text": [
      "Linear regression: MSE=0.0, train_MSE=0.0, wind=2\n"
     ]
    }
   ],
   "source": [
    "res = get_dif(1,[2], lin_regr, True)\n",
    "print(\"Linear regression: MSE={}, train_MSE={}, wind={}\".format(np.round(res[0],3), np.round(res[1],3), int(res[2])))"
   ]
  },
  {
   "cell_type": "code",
   "execution_count": 17,
   "metadata": {},
   "outputs": [
    {
     "name": "stdout",
     "output_type": "stream",
     "text": [
      "Linear regression: MSE=0.0+-0.0, train_MSE=0.0\n"
     ]
    }
   ],
   "source": [
    "regr_wn_mse = get_dif_mse([2], lin_regr) \n",
    "print(\"Linear regression: MSE={}+-{}, train_MSE={}\".format(np.round(np.mean(regr_wn_mse[:,0]),3),\n",
    "    np.round(2*np.var(regr_wn_mse[:,0])**0.5/10,3), np.round(np.mean(regr_wn_mse[:,1]),3)))"
   ]
  },
  {
   "cell_type": "code",
   "execution_count": 90,
   "metadata": {},
   "outputs": [
    {
     "name": "stdout",
     "output_type": "stream",
     "text": [
      "Linear regression with intercept: MSE=0.0+-0.0, train_MSE=0.0\n"
     ]
    }
   ],
   "source": [
    "regr_wn_mse = get_dif_mse([2], lin_regr_intercept) \n",
    "print(\"Linear regression with intercept: MSE={}+-{}, train_MSE={}\".format(np.round(np.mean(regr_wn_mse[:,0]),3),\n",
    "    np.round(2*np.var(regr_wn_mse[:,0])**0.5/10,3), np.round(np.mean(regr_wn_mse[:,1]),3)))"
   ]
  },
  {
   "cell_type": "markdown",
   "metadata": {},
   "source": [
    "### Lasso"
   ]
  },
  {
   "cell_type": "code",
   "execution_count": 92,
   "metadata": {},
   "outputs": [
    {
     "name": "stdout",
     "output_type": "stream",
     "text": [
      "Lasso: MSE=0.0+-0.0, train_MSE=0.0, mean_alpha=0.0\n"
     ]
    }
   ],
   "source": [
    "regr_wn_mse = get_dif_mse([2], lasso) \n",
    "print(\"Lasso: MSE={}+-{}, train_MSE={}, mean_alpha={}\".format(np.round(np.mean(regr_wn_mse[:,0]),3),\n",
    "    np.round(2*np.var(regr_wn_mse[:,0])**0.5/10,3), np.round(np.mean(regr_wn_mse[:,1]),3),\n",
    "    np.round(np.mean(regr_wn_mse[:,3]),3)))"
   ]
  },
  {
   "cell_type": "code",
   "execution_count": 93,
   "metadata": {},
   "outputs": [
    {
     "name": "stdout",
     "output_type": "stream",
     "text": [
      "Lasso with intercept: MSE=0.0+-0.0, train_MSE=0.0\n"
     ]
    }
   ],
   "source": [
    "regr_wn_mse = get_dif_mse([2], lasso_intercept) \n",
    "print(\"Lasso with intercept: MSE={}+-{}, train_MSE={}\".format(np.round(np.mean(regr_wn_mse[:,0]),3),\n",
    "    np.round(2*np.var(regr_wn_mse[:,0])**0.5/10,3), np.round(np.mean(regr_wn_mse[:,1]),3),\n",
    "    np.round(np.mean(regr_wn_mse[:,3]),3)))"
   ]
  },
  {
   "cell_type": "markdown",
   "metadata": {},
   "source": [
    "### Tree"
   ]
  },
  {
   "cell_type": "code",
   "execution_count": 97,
   "metadata": {},
   "outputs": [
    {
     "name": "stdout",
     "output_type": "stream",
     "text": [
      "Tree: MSE=0.0+-0.0, train_MSE=0.0, depth=1.0, max_leaf=5.0\n"
     ]
    }
   ],
   "source": [
    "regr_wn_mse = get_dif_mse([2], tree) \n",
    "print(\"Tree: MSE={}+-{}, train_MSE={}, depth={}, max_leaf={}\".format(np.round(np.mean(regr_wn_mse[:,0]),3),\n",
    "    np.round(2*np.var(regr_wn_mse[:,0])**0.5/10,3), np.round(np.mean(regr_wn_mse[:,1]),3),\n",
    "    np.round(np.mean(regr_wn_mse[:,3]),3), np.round(np.mean(regr_wn_mse[:,4]),3)))"
   ]
  },
  {
   "cell_type": "markdown",
   "metadata": {},
   "source": [
    "### XGBoost"
   ]
  },
  {
   "cell_type": "code",
   "execution_count": 99,
   "metadata": {},
   "outputs": [
    {
     "name": "stdout",
     "output_type": "stream",
     "text": [
      "Linear regression: MSE=0.0+-0.0, train_MSE=0.0, estim=1.0, depth=5.0\n"
     ]
    }
   ],
   "source": [
    "regr_wn_mse = get_dif_mse([2], tree) \n",
    "print(\"Linear regression: MSE={}+-{}, train_MSE={}, estim={}, depth={}\".format(np.round(np.mean(regr_wn_mse[:,0]),3),\n",
    "    np.round(2*np.var(regr_wn_mse[:,0])**0.5/10,3), np.round(np.mean(regr_wn_mse[:,1]),3),\n",
    "    np.round(np.mean(regr_wn_mse[:,3]),3), np.round(np.mean(regr_wn_mse[:,4]),3)))"
   ]
  },
  {
   "cell_type": "markdown",
   "metadata": {},
   "source": [
    "# Броуновское движение"
   ]
  },
  {
   "cell_type": "code",
   "execution_count": 115,
   "metadata": {},
   "outputs": [],
   "source": [
    "data = pd.read_csv(\"series1/white_noise.csv\")\n",
    "\n",
    "arr_name = []\n",
    "arr_train = []\n",
    "arr_test = []\n",
    "arr_var = []"
   ]
  },
  {
   "cell_type": "markdown",
   "metadata": {},
   "source": [
    "### ошибка по предыдущему значению"
   ]
  },
  {
   "cell_type": "code",
   "execution_count": 109,
   "metadata": {},
   "outputs": [
    {
     "data": {
      "text/plain": [
       "1.01068"
      ]
     },
     "execution_count": 109,
     "metadata": {},
     "output_type": "execute_result"
    }
   ],
   "source": [
    "wn_min_err = []\n",
    "for i in range(1,101):\n",
    "    wn_min_err.append(round(sk.metrics.mean_squared_error(data['series'+str(i)][(n-test_ratio):n], \n",
    "                                    data['series'+str(i)][(n-test_ratio-1):(n-1)]), 3))\n",
    "np.mean(wn_min_err)"
   ]
  },
  {
   "cell_type": "markdown",
   "metadata": {},
   "source": [
    "### ошибка по предсказанию нулями для разностей"
   ]
  },
  {
   "cell_type": "code",
   "execution_count": 111,
   "metadata": {},
   "outputs": [
    {
     "data": {
      "text/plain": [
       "1.0106999202433393"
      ]
     },
     "execution_count": 111,
     "metadata": {},
     "output_type": "execute_result"
    }
   ],
   "source": [
    "wn_min_err = []\n",
    "for i in range(1,101):\n",
    "    X = np.array(data['series'+str(i)])\n",
    "    X_dif = X[1:n]-X[0:(n-1)]\n",
    "    wn_min_err.append(sk.metrics.mean_squared_error(X_dif[(n-test_ratio-1):(n-1)], np.zeros(test_ratio)))\n",
    "np.mean(wn_min_err)"
   ]
  },
  {
   "cell_type": "markdown",
   "metadata": {},
   "source": [
    "### окна"
   ]
  },
  {
   "cell_type": "code",
   "execution_count": 113,
   "metadata": {},
   "outputs": [],
   "source": [
    "winds = [2,4,8,12,16,20]"
   ]
  },
  {
   "cell_type": "markdown",
   "metadata": {},
   "source": [
    "### Linear regression"
   ]
  },
  {
   "cell_type": "code",
   "execution_count": 114,
   "metadata": {
    "scrolled": true
   },
   "outputs": [
    {
     "data": {
      "image/png": "[encoded data removed]",
      "text/plain": [
       "<Figure size 432x288 with 1 Axes>"
      ]
     },
     "metadata": {},
     "output_type": "display_data"
    }
   ],
   "source": [
    "res = get_dif(1,winds, lin_regr, True)"
   ]
  },
  {
   "cell_type": "code",
   "execution_count": 116,
   "metadata": {},
   "outputs": [],
   "source": [
    "regr_wn_mse = get_dif_mse(winds, lin_regr)"
   ]
  },
  {
   "cell_type": "code",
   "execution_count": 117,
   "metadata": {},
   "outputs": [
    {
     "name": "stdout",
     "output_type": "stream",
     "text": [
      "Linear regression: MSE=1.015+-0.018, train_MSE=0.991\n"
     ]
    }
   ],
   "source": [
    "print(\"Linear regression: MSE={}+-{}, train_MSE={}\".format(np.round(np.mean(regr_wn_mse[:,0]),3),\n",
    "    np.round(2*np.var(regr_wn_mse[:,0])**0.5/10,3), np.round(np.mean(regr_wn_mse[:,1]),3)))"
   ]
  },
  {
   "cell_type": "code",
   "execution_count": 118,
   "metadata": {},
   "outputs": [],
   "source": [
    "regr_i_wn_mse = get_dif_mse(winds, lin_regr_intercept)"
   ]
  },
  {
   "cell_type": "code",
   "execution_count": 119,
   "metadata": {},
   "outputs": [
    {
     "name": "stdout",
     "output_type": "stream",
     "text": [
      "Linear regression with intercept: MSE=1.017+-0.018, train_MSE=0.993\n"
     ]
    }
   ],
   "source": [
    "print(\"Linear regression with intercept: MSE={}+-{}, train_MSE={}\".format(\n",
    "    np.round(np.mean(regr_i_wn_mse[:,0]),3), np.round(2*np.var(regr_i_wn_mse[:,0])**0.5/10,3), \n",
    "    np.round(np.mean(regr_i_wn_mse[:,1]),3)))"
   ]
  },
  {
   "cell_type": "code",
   "execution_count": 120,
   "metadata": {},
   "outputs": [],
   "source": [
    "arr_name.append('Lin regr')\n",
    "arr_train.append(np.round(np.mean(regr_wn_mse[:,1]),3))\n",
    "arr_test.append(np.round(np.mean(regr_wn_mse[:,0]),3))\n",
    "arr_var.append(np.round(2*np.var(regr_wn_mse[:,0])**0.5/10,3))\n",
    "\n",
    "arr_name.append('Lin regr with intercept')\n",
    "arr_train.append(np.round(np.mean(regr_i_wn_mse[:,1]),3))\n",
    "arr_test.append(np.round(np.mean(regr_i_wn_mse[:,0]),3))\n",
    "arr_var.append(np.round(2*np.var(regr_i_wn_mse[:,0])**0.5/10,3))"
   ]
  },
  {
   "cell_type": "markdown",
   "metadata": {},
   "source": [
    "### Lasso"
   ]
  },
  {
   "cell_type": "code",
   "execution_count": 122,
   "metadata": {},
   "outputs": [],
   "source": [
    "lasso_wn_mse = get_dif_mse(winds, lasso)"
   ]
  },
  {
   "cell_type": "code",
   "execution_count": 126,
   "metadata": {},
   "outputs": [
    {
     "name": "stdout",
     "output_type": "stream",
     "text": [
      "Linear regression: MSE=1.012+-0.018, train_MSE=0.985, wind=10.54, mean_alpha=0.048\n"
     ]
    }
   ],
   "source": [
    "print(\"Linear regression: MSE={}+-{}, train_MSE={}, wind={}, mean_alpha={}\".format(\n",
    "    np.round(np.mean(lasso_wn_mse[:,0]),3), np.round(2*np.var(lasso_wn_mse[:,0])**0.5/10,3),\n",
    "    np.round(np.mean(lasso_wn_mse[:,1]),3), np.round(np.mean(lasso_wn_mse[:,2]),3),\n",
    "    np.round(np.mean(lasso_wn_mse[:,3]),3)))"
   ]
  },
  {
   "cell_type": "code",
   "execution_count": 124,
   "metadata": {},
   "outputs": [],
   "source": [
    "lasso_i_wn_mse = get_dif_mse(winds, lasso_intercept)"
   ]
  },
  {
   "cell_type": "code",
   "execution_count": 125,
   "metadata": {},
   "outputs": [
    {
     "name": "stdout",
     "output_type": "stream",
     "text": [
      "Linear regression: MSE=1.014+-0.018, train_MSE=0.986, wind=10.72, mean_alpha=0.049\n"
     ]
    }
   ],
   "source": [
    "print(\"Linear regression: MSE={}+-{}, train_MSE={}, wind={}, mean_alpha={}\".format(\n",
    "    np.round(np.mean(lasso_i_wn_mse[:,0]),3), np.round(2*np.var(lasso_i_wn_mse[:,0])**0.5/10,3),\n",
    "    np.round(np.mean(lasso_i_wn_mse[:,1]),3), np.round(np.mean(lasso_i_wn_mse[:,2]),3),\n",
    "    np.round(np.mean(lasso_i_wn_mse[:,3]),3)))"
   ]
  },
  {
   "cell_type": "code",
   "execution_count": 127,
   "metadata": {},
   "outputs": [],
   "source": [
    "arr_name.append('Lasso')\n",
    "arr_train.append(np.round(np.mean(lasso_wn_mse[:,1]),3))\n",
    "arr_test.append(np.round(np.mean(lasso_wn_mse[:,0]),3))\n",
    "arr_var.append(np.round(2*np.var(lasso_wn_mse[:,0])**0.5/10,3))\n",
    "\n",
    "arr_name.append('Lasso with intercept')\n",
    "arr_train.append(np.round(np.mean(lasso_i_wn_mse[:,1]),3))\n",
    "arr_test.append(np.round(np.mean(lasso_i_wn_mse[:,0]),3))\n",
    "arr_var.append(np.round(2*np.var(lasso_i_wn_mse[:,0])**0.5/10,3))"
   ]
  },
  {
   "cell_type": "markdown",
   "metadata": {},
   "source": [
    "### Tree"
   ]
  },
  {
   "cell_type": "code",
   "execution_count": 128,
   "metadata": {},
   "outputs": [],
   "source": [
    "tree_wn_mse = get_dif_mse(winds, tree)"
   ]
  },
  {
   "cell_type": "code",
   "execution_count": 129,
   "metadata": {},
   "outputs": [
    {
     "name": "stdout",
     "output_type": "stream",
     "text": [
      "Tree: MSE=1.048+-0.02, train_MSE=1.01, wind=6.26, depth=1.17, max_leaf=8.35\n"
     ]
    }
   ],
   "source": [
    "print(\"Tree: MSE={}+-{}, train_MSE={}, wind={}, depth={}, max_leaf={}\".format(\n",
    "    np.round(np.mean(tree_wn_mse[:,0]),3), np.round(2*np.var(tree_wn_mse[:,0])**0.5/10,3), \n",
    "    np.round(np.mean(tree_wn_mse[:,1]),3), np.round(np.mean(tree_wn_mse[:,2]),3), \n",
    "    np.round(np.mean(tree_wn_mse[:,3]),3), np.round(np.mean(tree_wn_mse[:,4]),3)))"
   ]
  },
  {
   "cell_type": "code",
   "execution_count": 130,
   "metadata": {},
   "outputs": [],
   "source": [
    "arr_name.append('Tree')\n",
    "arr_train.append(np.round(np.mean(tree_wn_mse[:,1]),3))\n",
    "arr_test.append(np.round(np.mean(tree_wn_mse[:,0]),3))\n",
    "arr_var.append(np.round(2*np.var(tree_wn_mse[:,0])**0.5/10,3))"
   ]
  },
  {
   "cell_type": "markdown",
   "metadata": {},
   "source": [
    "### XGBoost"
   ]
  },
  {
   "cell_type": "code",
   "execution_count": 131,
   "metadata": {},
   "outputs": [],
   "source": [
    "boost_wn_mse = get_dif_mse(winds, boost)"
   ]
  },
  {
   "cell_type": "code",
   "execution_count": 132,
   "metadata": {},
   "outputs": [
    {
     "name": "stdout",
     "output_type": "stream",
     "text": [
      "Boost: MSE=1.024+-0.019, train_MSE=0.991, wind=8.22, n_estim=31.2, depth=1.09\n"
     ]
    }
   ],
   "source": [
    "print(\"Boost: MSE={}+-{}, train_MSE={}, wind={}, n_estim={}, depth={}\".format(\n",
    "    np.round(np.mean(boost_wn_mse[:,0]),3), np.round(2*np.var(boost_wn_mse[:,0])**0.5/10,3), \n",
    "    np.round(np.mean(boost_wn_mse[:,1]),3), np.round(np.mean(boost_wn_mse[:,2]),3),\n",
    "    np.round(np.mean(boost_wn_mse[:,3]),3), np.round(np.mean(boost_wn_mse[:,4]),3)))"
   ]
  },
  {
   "cell_type": "code",
   "execution_count": 133,
   "metadata": {},
   "outputs": [],
   "source": [
    "arr_name.append('XGBoost')\n",
    "arr_train.append(np.round(np.mean(boost_wn_mse[:,1]),3))\n",
    "arr_test.append(np.round(np.mean(boost_wn_mse[:,0]),3))\n",
    "arr_var.append(np.round(2*np.var(boost_wn_mse[:,0])**0.5/10,3))"
   ]
  },
  {
   "cell_type": "markdown",
   "metadata": {},
   "source": [
    "### Результаты"
   ]
  },
  {
   "cell_type": "code",
   "execution_count": 134,
   "metadata": {
    "scrolled": true
   },
   "outputs": [
    {
     "data": {
      "text/html": [
       "<div>\n",
       "<style scoped>\n",
       "    .dataframe tbody tr th:only-of-type {\n",
       "        vertical-align: middle;\n",
       "    }\n",
       "\n",
       "    .dataframe tbody tr th {\n",
       "        vertical-align: top;\n",
       "    }\n",
       "\n",
       "    .dataframe thead th {\n",
       "        text-align: right;\n",
       "    }\n",
       "</style>\n",
       "<table border=\"1\" class=\"dataframe\">\n",
       "  <thead>\n",
       "    <tr style=\"text-align: right;\">\n",
       "      <th></th>\n",
       "      <th>name</th>\n",
       "      <th>train</th>\n",
       "      <th>test</th>\n",
       "      <th>conf int</th>\n",
       "    </tr>\n",
       "  </thead>\n",
       "  <tbody>\n",
       "    <tr>\n",
       "      <th>0</th>\n",
       "      <td>Lin regr</td>\n",
       "      <td>0.991</td>\n",
       "      <td>1.015</td>\n",
       "      <td>0.018</td>\n",
       "    </tr>\n",
       "    <tr>\n",
       "      <th>1</th>\n",
       "      <td>Lin regr with intercept</td>\n",
       "      <td>0.993</td>\n",
       "      <td>1.017</td>\n",
       "      <td>0.018</td>\n",
       "    </tr>\n",
       "    <tr>\n",
       "      <th>2</th>\n",
       "      <td>Lasso</td>\n",
       "      <td>0.985</td>\n",
       "      <td>1.012</td>\n",
       "      <td>0.018</td>\n",
       "    </tr>\n",
       "    <tr>\n",
       "      <th>3</th>\n",
       "      <td>Lasso with intercept</td>\n",
       "      <td>0.986</td>\n",
       "      <td>1.014</td>\n",
       "      <td>0.018</td>\n",
       "    </tr>\n",
       "    <tr>\n",
       "      <th>4</th>\n",
       "      <td>Tree</td>\n",
       "      <td>1.010</td>\n",
       "      <td>1.048</td>\n",
       "      <td>0.020</td>\n",
       "    </tr>\n",
       "    <tr>\n",
       "      <th>5</th>\n",
       "      <td>XGBoost</td>\n",
       "      <td>0.991</td>\n",
       "      <td>1.024</td>\n",
       "      <td>0.019</td>\n",
       "    </tr>\n",
       "  </tbody>\n",
       "</table>\n",
       "</div>"
      ],
      "text/plain": [
       "                      name  train   test  conf int\n",
       "0                 Lin regr  0.991  1.015     0.018\n",
       "1  Lin regr with intercept  0.993  1.017     0.018\n",
       "2                    Lasso  0.985  1.012     0.018\n",
       "3     Lasso with intercept  0.986  1.014     0.018\n",
       "4                     Tree  1.010  1.048     0.020\n",
       "5                  XGBoost  0.991  1.024     0.019"
      ]
     },
     "execution_count": 134,
     "metadata": {},
     "output_type": "execute_result"
    }
   ],
   "source": [
    "dic={'name':arr_name, 'train': arr_train, 'test': arr_test, 'conf int': arr_var}\n",
    "df=pd.DataFrame(data=dic)\n",
    "df"
   ]
  },
  {
   "cell_type": "markdown",
   "metadata": {},
   "source": [
    "# Простой тренд + Броуновское движение"
   ]
  },
  {
   "cell_type": "code",
   "execution_count": 72,
   "metadata": {},
   "outputs": [],
   "source": [
    "data = pd.read_csv(\"series1/trend_whiteNoise.csv\")\n",
    "\n",
    "arr_name = []\n",
    "arr_train = []\n",
    "arr_test = []\n",
    "arr_var = []"
   ]
  },
  {
   "cell_type": "markdown",
   "metadata": {
    "colab_type": "text",
    "id": "F2Hd-yA7AUVd"
   },
   "source": [
    "### Лучший и худший случаи\n",
    "##### Худший - по предыдущему, теорерическая ошибка $1.25 = \\sigma^2 + \\sigma_a^2$, $\\lambda =200$\n",
    "##### Лучший - из предыдущей разности вычитать среднее по всем предыдущим элементам. Теоретически равна $1 = \\sigma^2$"
   ]
  },
  {
   "cell_type": "code",
   "execution_count": 46,
   "metadata": {
    "colab": {},
    "colab_type": "code",
    "id": "rDiqLSuPAUVg",
    "outputId": "370063ae-ef5a-4951-9bbf-8ba18b0eb9db",
    "scrolled": true
   },
   "outputs": [
    {
     "name": "stdout",
     "output_type": "stream",
     "text": [
      "bounds MSE = (1.007, 1.221)\n"
     ]
    }
   ],
   "source": [
    "lower_bounds_winds = get_bounds(True)"
   ]
  },
  {
   "cell_type": "markdown",
   "metadata": {},
   "source": [
    "### окна"
   ]
  },
  {
   "cell_type": "code",
   "execution_count": 49,
   "metadata": {},
   "outputs": [],
   "source": [
    "winds = [2,4,8,12,16,20]"
   ]
  },
  {
   "cell_type": "markdown",
   "metadata": {},
   "source": [
    "### Linear regression"
   ]
  },
  {
   "cell_type": "code",
   "execution_count": 67,
   "metadata": {
    "scrolled": true
   },
   "outputs": [
    {
     "data": {
      "image/png": "[encoded data removed]",
      "text/plain": [
       "<Figure size 432x288 with 1 Axes>"
      ]
     },
     "metadata": {},
     "output_type": "display_data"
    }
   ],
   "source": [
    "res = get_dif(1,winds, lin_regr, True)"
   ]
  },
  {
   "cell_type": "code",
   "execution_count": 73,
   "metadata": {},
   "outputs": [],
   "source": [
    "regr_wn_mse = get_dif_mse(winds, lin_regr)"
   ]
  },
  {
   "cell_type": "code",
   "execution_count": 74,
   "metadata": {},
   "outputs": [
    {
     "name": "stdout",
     "output_type": "stream",
     "text": [
      "Linear regression: MSE=1.063+-0.018, train_MSE=1.051\n"
     ]
    }
   ],
   "source": [
    "print(\"Linear regression: MSE={}+-{}, train_MSE={}\".format(np.round(np.mean(regr_wn_mse[:,0]),3),\n",
    "    np.round(2*np.var(regr_wn_mse[:,0])**0.5/10,3), np.round(np.mean(regr_wn_mse[:,1]),3)))"
   ]
  },
  {
   "cell_type": "code",
   "execution_count": 75,
   "metadata": {},
   "outputs": [],
   "source": [
    "regr_i_wn_mse = get_dif_mse(winds, lin_regr_intercept)"
   ]
  },
  {
   "cell_type": "code",
   "execution_count": 76,
   "metadata": {},
   "outputs": [
    {
     "name": "stdout",
     "output_type": "stream",
     "text": [
      "Linear regression with intercept: MSE=1.015+-0.018, train_MSE=1.006\n"
     ]
    }
   ],
   "source": [
    "print(\"Linear regression with intercept: MSE={}+-{}, train_MSE={}\".format(\n",
    "    np.round(np.mean(regr_i_wn_mse[:,0]),3), np.round(2*np.var(regr_i_wn_mse[:,0])**0.5/10,3), \n",
    "    np.round(np.mean(regr_i_wn_mse[:,1]),3)))"
   ]
  },
  {
   "cell_type": "code",
   "execution_count": 77,
   "metadata": {},
   "outputs": [],
   "source": [
    "arr_name.append('Lin regr')\n",
    "arr_train.append(np.round(np.mean(regr_wn_mse[:,1]),3))\n",
    "arr_test.append(np.round(np.mean(regr_wn_mse[:,0]),3))\n",
    "arr_var.append(np.round(2*np.var(regr_wn_mse[:,0])**0.5/10,3))\n",
    "\n",
    "arr_name.append('Lin regr with intercept')\n",
    "arr_train.append(np.round(np.mean(regr_i_wn_mse[:,1]),3))\n",
    "arr_test.append(np.round(np.mean(regr_i_wn_mse[:,0]),3))\n",
    "arr_var.append(np.round(2*np.var(regr_i_wn_mse[:,0])**0.5/10,3))"
   ]
  },
  {
   "cell_type": "markdown",
   "metadata": {},
   "source": [
    "### Lasso"
   ]
  },
  {
   "cell_type": "code",
   "execution_count": 78,
   "metadata": {},
   "outputs": [],
   "source": [
    "lasso_wn_mse = get_dif_mse(winds, lasso)"
   ]
  },
  {
   "cell_type": "code",
   "execution_count": 86,
   "metadata": {},
   "outputs": [
    {
     "name": "stdout",
     "output_type": "stream",
     "text": [
      "Lasso: MSE=1.056+-0.018, train_MSE=1.044, wind=14.52, mean_alpha=0.035\n"
     ]
    }
   ],
   "source": [
    "print(\"Lasso: MSE={}+-{}, train_MSE={}, wind={}, mean_alpha={}\".format(\n",
    "    np.round(np.mean(lasso_wn_mse[:,0]),3), np.round(2*np.var(lasso_wn_mse[:,0])**0.5/10,3),\n",
    "    np.round(np.mean(lasso_wn_mse[:,1]),3), np.round(np.mean(lasso_wn_mse[:,2]),3),\n",
    "    np.round(np.mean(lasso_wn_mse[:,3]),3)))"
   ]
  },
  {
   "cell_type": "code",
   "execution_count": 80,
   "metadata": {},
   "outputs": [],
   "source": [
    "lasso_i_wn_mse = get_dif_mse(winds, lasso_intercept)"
   ]
  },
  {
   "cell_type": "code",
   "execution_count": 87,
   "metadata": {},
   "outputs": [
    {
     "name": "stdout",
     "output_type": "stream",
     "text": [
      "Lasso with intercept: MSE=1.012+-0.018, train_MSE=1.0, wind=10.18, mean_alpha=0.049\n"
     ]
    }
   ],
   "source": [
    "print(\"Lasso with intercept: MSE={}+-{}, train_MSE={}, wind={}, mean_alpha={}\".format(\n",
    "    np.round(np.mean(lasso_i_wn_mse[:,0]),3), np.round(2*np.var(lasso_i_wn_mse[:,0])**0.5/10,3),\n",
    "    np.round(np.mean(lasso_i_wn_mse[:,1]),3), np.round(np.mean(lasso_i_wn_mse[:,2]),3),\n",
    "    np.round(np.mean(lasso_i_wn_mse[:,3]),3)))"
   ]
  },
  {
   "cell_type": "code",
   "execution_count": 82,
   "metadata": {},
   "outputs": [],
   "source": [
    "arr_name.append('Lasso')\n",
    "arr_train.append(np.round(np.mean(lasso_wn_mse[:,1]),3))\n",
    "arr_test.append(np.round(np.mean(lasso_wn_mse[:,0]),3))\n",
    "arr_var.append(np.round(2*np.var(lasso_wn_mse[:,0])**0.5/10,3))\n",
    "\n",
    "arr_name.append('Lasso with intercept')\n",
    "arr_train.append(np.round(np.mean(lasso_i_wn_mse[:,1]),3))\n",
    "arr_test.append(np.round(np.mean(lasso_i_wn_mse[:,0]),3))\n",
    "arr_var.append(np.round(2*np.var(lasso_i_wn_mse[:,0])**0.5/10,3))"
   ]
  },
  {
   "cell_type": "markdown",
   "metadata": {},
   "source": [
    "### Tree"
   ]
  },
  {
   "cell_type": "code",
   "execution_count": 83,
   "metadata": {},
   "outputs": [],
   "source": [
    "tree_wn_mse = get_dif_mse(winds, tree)"
   ]
  },
  {
   "cell_type": "code",
   "execution_count": 84,
   "metadata": {},
   "outputs": [
    {
     "name": "stdout",
     "output_type": "stream",
     "text": [
      "Tree: MSE=1.043+-0.019, train_MSE=1.027, wind=6.3, depth=1.14, max_leaf=7.75\n"
     ]
    }
   ],
   "source": [
    "print(\"Tree: MSE={}+-{}, train_MSE={}, wind={}, depth={}, max_leaf={}\".format(\n",
    "    np.round(np.mean(tree_wn_mse[:,0]),3), np.round(2*np.var(tree_wn_mse[:,0])**0.5/10,3), \n",
    "    np.round(np.mean(tree_wn_mse[:,1]),3), np.round(np.mean(tree_wn_mse[:,2]),3), \n",
    "    np.round(np.mean(tree_wn_mse[:,3]),3), np.round(np.mean(tree_wn_mse[:,4]),3)))"
   ]
  },
  {
   "cell_type": "code",
   "execution_count": 85,
   "metadata": {},
   "outputs": [],
   "source": [
    "arr_name.append('Tree')\n",
    "arr_train.append(np.round(np.mean(tree_wn_mse[:,1]),3))\n",
    "arr_test.append(np.round(np.mean(tree_wn_mse[:,0]),3))\n",
    "arr_var.append(np.round(2*np.var(tree_wn_mse[:,0])**0.5/10,3))"
   ]
  },
  {
   "cell_type": "markdown",
   "metadata": {},
   "source": [
    "### XGBoost"
   ]
  },
  {
   "cell_type": "code",
   "execution_count": 89,
   "metadata": {},
   "outputs": [],
   "source": [
    "boost_wn_mse = get_dif_mse(winds, boost)"
   ]
  },
  {
   "cell_type": "code",
   "execution_count": 90,
   "metadata": {},
   "outputs": [
    {
     "name": "stdout",
     "output_type": "stream",
     "text": [
      "Boost: MSE=1.022+-0.018, train_MSE=1.005, wind=9.3, n_estim=35.2, depth=1.04\n"
     ]
    }
   ],
   "source": [
    "print(\"Boost: MSE={}+-{}, train_MSE={}, wind={}, n_estim={}, depth={}\".format(\n",
    "    np.round(np.mean(boost_wn_mse[:,0]),3), np.round(2*np.var(boost_wn_mse[:,0])**0.5/10,3), \n",
    "    np.round(np.mean(boost_wn_mse[:,1]),3), np.round(np.mean(boost_wn_mse[:,2]),3),\n",
    "    np.round(np.mean(boost_wn_mse[:,3]),3), np.round(np.mean(boost_wn_mse[:,4]),3)))"
   ]
  },
  {
   "cell_type": "code",
   "execution_count": 91,
   "metadata": {},
   "outputs": [],
   "source": [
    "arr_name.append('XGBoost')\n",
    "arr_train.append(np.round(np.mean(boost_wn_mse[:,1]),3))\n",
    "arr_test.append(np.round(np.mean(boost_wn_mse[:,0]),3))\n",
    "arr_var.append(np.round(2*np.var(boost_wn_mse[:,0])**0.5/10,3))"
   ]
  },
  {
   "cell_type": "markdown",
   "metadata": {},
   "source": [
    "### Результаты"
   ]
  },
  {
   "cell_type": "code",
   "execution_count": 92,
   "metadata": {
    "scrolled": true
   },
   "outputs": [
    {
     "data": {
      "text/html": [
       "<div>\n",
       "<style scoped>\n",
       "    .dataframe tbody tr th:only-of-type {\n",
       "        vertical-align: middle;\n",
       "    }\n",
       "\n",
       "    .dataframe tbody tr th {\n",
       "        vertical-align: top;\n",
       "    }\n",
       "\n",
       "    .dataframe thead th {\n",
       "        text-align: right;\n",
       "    }\n",
       "</style>\n",
       "<table border=\"1\" class=\"dataframe\">\n",
       "  <thead>\n",
       "    <tr style=\"text-align: right;\">\n",
       "      <th></th>\n",
       "      <th>name</th>\n",
       "      <th>train</th>\n",
       "      <th>test</th>\n",
       "      <th>conf int</th>\n",
       "    </tr>\n",
       "  </thead>\n",
       "  <tbody>\n",
       "    <tr>\n",
       "      <th>0</th>\n",
       "      <td>Lin regr</td>\n",
       "      <td>1.051</td>\n",
       "      <td>1.063</td>\n",
       "      <td>0.018</td>\n",
       "    </tr>\n",
       "    <tr>\n",
       "      <th>1</th>\n",
       "      <td>Lin regr with intercept</td>\n",
       "      <td>1.006</td>\n",
       "      <td>1.015</td>\n",
       "      <td>0.018</td>\n",
       "    </tr>\n",
       "    <tr>\n",
       "      <th>2</th>\n",
       "      <td>Lasso</td>\n",
       "      <td>1.044</td>\n",
       "      <td>1.056</td>\n",
       "      <td>0.018</td>\n",
       "    </tr>\n",
       "    <tr>\n",
       "      <th>3</th>\n",
       "      <td>Lasso with intercept</td>\n",
       "      <td>1.000</td>\n",
       "      <td>1.012</td>\n",
       "      <td>0.018</td>\n",
       "    </tr>\n",
       "    <tr>\n",
       "      <th>4</th>\n",
       "      <td>Tree</td>\n",
       "      <td>1.027</td>\n",
       "      <td>1.043</td>\n",
       "      <td>0.019</td>\n",
       "    </tr>\n",
       "    <tr>\n",
       "      <th>5</th>\n",
       "      <td>XGBoost</td>\n",
       "      <td>1.005</td>\n",
       "      <td>1.022</td>\n",
       "      <td>0.018</td>\n",
       "    </tr>\n",
       "  </tbody>\n",
       "</table>\n",
       "</div>"
      ],
      "text/plain": [
       "                      name  train   test  conf int\n",
       "0                 Lin regr  1.051  1.063     0.018\n",
       "1  Lin regr with intercept  1.006  1.015     0.018\n",
       "2                    Lasso  1.044  1.056     0.018\n",
       "3     Lasso with intercept  1.000  1.012     0.018\n",
       "4                     Tree  1.027  1.043     0.019\n",
       "5                  XGBoost  1.005  1.022     0.018"
      ]
     },
     "execution_count": 92,
     "metadata": {},
     "output_type": "execute_result"
    }
   ],
   "source": [
    "dic={'name':arr_name, 'train': arr_train, 'test': arr_test, 'conf int': arr_var}\n",
    "df=pd.DataFrame(data=dic)\n",
    "df"
   ]
  },
  {
   "cell_type": "markdown",
   "metadata": {},
   "source": [
    "# Несколько трендов без шума"
   ]
  },
  {
   "cell_type": "code",
   "execution_count": 93,
   "metadata": {},
   "outputs": [],
   "source": [
    "data = pd.read_csv(\"series1/difficult_trend.csv\")\n",
    "\n",
    "arr_name = []\n",
    "arr_train = []\n",
    "arr_test = []\n",
    "arr_var = []"
   ]
  },
  {
   "cell_type": "markdown",
   "metadata": {},
   "source": [
    "### Теоретическая минимальная ошибка\n",
    "##### $2\\sigma^2\\lambda=2*0.25/200=0.0025$"
   ]
  },
  {
   "cell_type": "markdown",
   "metadata": {},
   "source": [
    "### по предыдущему значению"
   ]
  },
  {
   "cell_type": "code",
   "execution_count": 94,
   "metadata": {},
   "outputs": [
    {
     "data": {
      "text/plain": [
       "0.002258664134147905"
      ]
     },
     "execution_count": 94,
     "metadata": {},
     "output_type": "execute_result"
    }
   ],
   "source": [
    "wn_min_err = []\n",
    "for i in range(1,101):\n",
    "    X = np.array(data['series'+str(i)])\n",
    "    X_dif = X[1:n]-X[0:(n-1)]\n",
    "    wn_min_err.append(sk.metrics.mean_squared_error(X_dif[(n-test_ratio-1):(n-1)], \n",
    "                                    X_dif[(n-test_ratio-2):(n-2)]))\n",
    "np.mean(wn_min_err)"
   ]
  },
  {
   "cell_type": "markdown",
   "metadata": {},
   "source": [
    "### Linear regression"
   ]
  },
  {
   "cell_type": "code",
   "execution_count": 97,
   "metadata": {
    "scrolled": true
   },
   "outputs": [
    {
     "data": {
      "image/png": "[encoded data removed]",
      "text/plain": [
       "<Figure size 432x288 with 1 Axes>"
      ]
     },
     "metadata": {},
     "output_type": "display_data"
    },
    {
     "name": "stdout",
     "output_type": "stream",
     "text": [
      "Linear regression: MSE=0.001, train_MSE=0.001, wind=2\n"
     ]
    }
   ],
   "source": [
    "res = get_dif(2, [2], lin_regr, True)\n",
    "print(\"Linear regression: MSE={}, train_MSE={}, wind={}\".format(np.round(res[0],3), np.round(res[1],3), \n",
    "    int(res[2])))"
   ]
  },
  {
   "cell_type": "code",
   "execution_count": 108,
   "metadata": {},
   "outputs": [],
   "source": [
    "regr_wn_mse = get_dif_mse([2], lin_regr)"
   ]
  },
  {
   "cell_type": "code",
   "execution_count": 109,
   "metadata": {},
   "outputs": [
    {
     "name": "stdout",
     "output_type": "stream",
     "text": [
      "Linear regression: MSE=0.002+-0.001, train_MSE=0.003\n"
     ]
    }
   ],
   "source": [
    "print(\"Linear regression: MSE={}+-{}, train_MSE={}\".format(np.round(np.mean(regr_wn_mse[:,0]),3),\n",
    "    np.round(2*np.var(regr_wn_mse[:,0])**.5/10,3), np.round(np.mean(regr_wn_mse[:,1]),3)))"
   ]
  },
  {
   "cell_type": "code",
   "execution_count": 110,
   "metadata": {},
   "outputs": [],
   "source": [
    "regr_i_wn_mse = get_dif_mse([2], lin_regr_intercept)"
   ]
  },
  {
   "cell_type": "code",
   "execution_count": 111,
   "metadata": {},
   "outputs": [
    {
     "name": "stdout",
     "output_type": "stream",
     "text": [
      "Linear regression: MSE=0.002+-0.001, train_MSE=0.056\n"
     ]
    }
   ],
   "source": [
    "print(\"Linear regression: MSE={}+-{}, train_MSE={}\".format(np.round(np.mean(regr_i_wn_mse[:,0]),3),\n",
    "    np.round(2*np.var(regr_i_wn_mse[:,0])**.5/10,3), np.round(np.mean(regr_i_wn_mse[:,1]),3)))"
   ]
  },
  {
   "cell_type": "code",
   "execution_count": 112,
   "metadata": {},
   "outputs": [],
   "source": [
    "arr_name.append('Lin regr')\n",
    "arr_train.append(np.round(np.mean(regr_wn_mse[:,1]),3))\n",
    "arr_test.append(np.round(np.mean(regr_wn_mse[:,0]),3))\n",
    "arr_var.append(np.round(2*np.var(regr_wn_mse[:,0])**.5/10,3))\n",
    "\n",
    "arr_name.append('Lin regr with intercept')\n",
    "arr_train.append(np.round(np.mean(regr_i_wn_mse[:,1]),3))\n",
    "arr_test.append(np.round(np.mean(regr_i_wn_mse[:,0]),3))\n",
    "arr_var.append(np.round(2*np.var(regr_i_wn_mse[:,0])**.5/10,3))"
   ]
  },
  {
   "cell_type": "markdown",
   "metadata": {},
   "source": [
    "### Lasso"
   ]
  },
  {
   "cell_type": "code",
   "execution_count": 115,
   "metadata": {},
   "outputs": [],
   "source": [
    "lasso_wn_mse = get_dif_mse([2], lasso)"
   ]
  },
  {
   "cell_type": "code",
   "execution_count": 118,
   "metadata": {},
   "outputs": [
    {
     "name": "stdout",
     "output_type": "stream",
     "text": [
      "Lasso: MSE=0.002+-0.001, train_MSE=0.003, mean_alpha=0.0\n"
     ]
    }
   ],
   "source": [
    "print(\"Lasso: MSE={}+-{}, train_MSE={}, mean_alpha={}\".format(\n",
    "    np.round(np.mean(lasso_wn_mse[:,0]),3), np.round(2*np.var(lasso_wn_mse[:,0])**.5/10,3),\n",
    "    np.round(np.mean(lasso_wn_mse[:,1]),3), np.round(np.mean(lasso_wn_mse[:,3]),3)))"
   ]
  },
  {
   "cell_type": "code",
   "execution_count": 117,
   "metadata": {},
   "outputs": [],
   "source": [
    "lasso_i_wn_mse = get_dif_mse([2], lasso_intercept)"
   ]
  },
  {
   "cell_type": "code",
   "execution_count": 119,
   "metadata": {},
   "outputs": [
    {
     "name": "stdout",
     "output_type": "stream",
     "text": [
      "Lasso with intercept: MSE=0.002+-0.001, train_MSE=0.026, mean_alpha=0.0\n"
     ]
    }
   ],
   "source": [
    "print(\"Lasso with intercept: MSE={}+-{}, train_MSE={}, mean_alpha={}\".format(\n",
    "    np.round(np.mean(lasso_i_wn_mse[:,0]),3), np.round(2*np.var(lasso_i_wn_mse[:,0])**.5/10,3),\n",
    "    np.round(np.mean(lasso_i_wn_mse[:,1]),3), np.round(np.mean(lasso_i_wn_mse[:,3]),3)))"
   ]
  },
  {
   "cell_type": "code",
   "execution_count": 120,
   "metadata": {},
   "outputs": [],
   "source": [
    "arr_name.append('Lasso')\n",
    "arr_train.append(np.round(np.mean(lasso_wn_mse[:,1]),3))\n",
    "arr_test.append(np.round(np.mean(lasso_wn_mse[:,0]),3))\n",
    "arr_var.append(np.round(2*np.var(lasso_wn_mse[:,0])**.5/10,3))\n",
    "\n",
    "arr_name.append('Lasso with intercept')\n",
    "arr_train.append(np.round(np.mean(lasso_i_wn_mse[:,1]),3))\n",
    "arr_test.append(np.round(np.mean(lasso_i_wn_mse[:,0]),3))\n",
    "arr_var.append(np.round(2*np.var(lasso_i_wn_mse[:,0])**.5/10,3))"
   ]
  },
  {
   "cell_type": "markdown",
   "metadata": {},
   "source": [
    "### Tree"
   ]
  },
  {
   "cell_type": "code",
   "execution_count": 122,
   "metadata": {},
   "outputs": [],
   "source": [
    "tree_wn_mse = get_dif_mse([2], tree)"
   ]
  },
  {
   "cell_type": "code",
   "execution_count": 123,
   "metadata": {},
   "outputs": [
    {
     "name": "stdout",
     "output_type": "stream",
     "text": [
      "Tree: MSE=0.057+-0.034, train_MSE=0.061, depth=1.57, max_leaf=5.9\n"
     ]
    }
   ],
   "source": [
    "print(\"Tree: MSE={}+-{}, train_MSE={}, depth={}, max_leaf={}\".format(np.round(np.mean(tree_wn_mse[:,0]),3), \n",
    "    np.round(2*np.var(tree_wn_mse[:,0])**.5/10,3), np.round(np.mean(tree_wn_mse[:,1]),3), \n",
    "    np.round(np.mean(tree_wn_mse[:,3]),3), np.round(np.mean(tree_wn_mse[:,4]),3)))"
   ]
  },
  {
   "cell_type": "code",
   "execution_count": 124,
   "metadata": {},
   "outputs": [],
   "source": [
    "arr_name.append('Tree')\n",
    "arr_train.append(np.round(np.mean(tree_wn_mse[:,1]),3))\n",
    "arr_test.append(np.round(np.mean(tree_wn_mse[:,0]),3))\n",
    "arr_var.append(np.round(2*np.var(tree_wn_mse[:,0])**.5/10,3))"
   ]
  },
  {
   "cell_type": "markdown",
   "metadata": {},
   "source": [
    "### XGBoost"
   ]
  },
  {
   "cell_type": "code",
   "execution_count": 125,
   "metadata": {},
   "outputs": [],
   "source": [
    "boost_wn_mse = get_dif_mse([2], boost)"
   ]
  },
  {
   "cell_type": "code",
   "execution_count": 126,
   "metadata": {},
   "outputs": [
    {
     "name": "stdout",
     "output_type": "stream",
     "text": [
      "Tree: MSE=0.056+-0.034, train_MSE=0.056, mean_estim=71.2, mean_depth=1.96\n"
     ]
    }
   ],
   "source": [
    "print(\"Tree: MSE={}+-{}, train_MSE={}, mean_estim={}, mean_depth={}\".format(np.round(np.mean(boost_wn_mse[:,0]),3), \n",
    "    np.round(2*np.var(boost_wn_mse[:,0])**.5/10,3), np.round(np.mean(boost_wn_mse[:,1]),3), \n",
    "    np.round(np.mean(boost_wn_mse[:,3]),3), np.round(np.mean(boost_wn_mse[:,4]),3)))"
   ]
  },
  {
   "cell_type": "code",
   "execution_count": 127,
   "metadata": {},
   "outputs": [],
   "source": [
    "arr_name.append('XGBoost')\n",
    "arr_train.append(np.round(np.mean(boost_wn_mse[:,1]),3))\n",
    "arr_test.append(np.round(np.mean(boost_wn_mse[:,0]),3))\n",
    "arr_var.append(np.round(2*np.var(boost_wn_mse[:,0])**.5/10,3))"
   ]
  },
  {
   "cell_type": "markdown",
   "metadata": {},
   "source": [
    "### Результаты"
   ]
  },
  {
   "cell_type": "code",
   "execution_count": 128,
   "metadata": {},
   "outputs": [
    {
     "data": {
      "text/html": [
       "<div>\n",
       "<style scoped>\n",
       "    .dataframe tbody tr th:only-of-type {\n",
       "        vertical-align: middle;\n",
       "    }\n",
       "\n",
       "    .dataframe tbody tr th {\n",
       "        vertical-align: top;\n",
       "    }\n",
       "\n",
       "    .dataframe thead th {\n",
       "        text-align: right;\n",
       "    }\n",
       "</style>\n",
       "<table border=\"1\" class=\"dataframe\">\n",
       "  <thead>\n",
       "    <tr style=\"text-align: right;\">\n",
       "      <th></th>\n",
       "      <th>name</th>\n",
       "      <th>train</th>\n",
       "      <th>test</th>\n",
       "      <th>conf int</th>\n",
       "    </tr>\n",
       "  </thead>\n",
       "  <tbody>\n",
       "    <tr>\n",
       "      <th>0</th>\n",
       "      <td>Lin regr</td>\n",
       "      <td>0.003</td>\n",
       "      <td>0.002</td>\n",
       "      <td>0.001</td>\n",
       "    </tr>\n",
       "    <tr>\n",
       "      <th>1</th>\n",
       "      <td>Lin regr</td>\n",
       "      <td>0.003</td>\n",
       "      <td>0.002</td>\n",
       "      <td>0.001</td>\n",
       "    </tr>\n",
       "    <tr>\n",
       "      <th>2</th>\n",
       "      <td>Lin regr with intercept</td>\n",
       "      <td>0.056</td>\n",
       "      <td>0.002</td>\n",
       "      <td>0.001</td>\n",
       "    </tr>\n",
       "    <tr>\n",
       "      <th>3</th>\n",
       "      <td>Lasso</td>\n",
       "      <td>0.003</td>\n",
       "      <td>0.002</td>\n",
       "      <td>0.001</td>\n",
       "    </tr>\n",
       "    <tr>\n",
       "      <th>4</th>\n",
       "      <td>Lasso with intercept</td>\n",
       "      <td>0.026</td>\n",
       "      <td>0.002</td>\n",
       "      <td>0.001</td>\n",
       "    </tr>\n",
       "    <tr>\n",
       "      <th>5</th>\n",
       "      <td>Tree</td>\n",
       "      <td>0.061</td>\n",
       "      <td>0.057</td>\n",
       "      <td>0.034</td>\n",
       "    </tr>\n",
       "    <tr>\n",
       "      <th>6</th>\n",
       "      <td>XGBoost</td>\n",
       "      <td>0.056</td>\n",
       "      <td>0.056</td>\n",
       "      <td>0.034</td>\n",
       "    </tr>\n",
       "  </tbody>\n",
       "</table>\n",
       "</div>"
      ],
      "text/plain": [
       "                      name  train   test  conf int\n",
       "0                 Lin regr  0.003  0.002     0.001\n",
       "1                 Lin regr  0.003  0.002     0.001\n",
       "2  Lin regr with intercept  0.056  0.002     0.001\n",
       "3                    Lasso  0.003  0.002     0.001\n",
       "4     Lasso with intercept  0.026  0.002     0.001\n",
       "5                     Tree  0.061  0.057     0.034\n",
       "6                  XGBoost  0.056  0.056     0.034"
      ]
     },
     "execution_count": 128,
     "metadata": {},
     "output_type": "execute_result"
    }
   ],
   "source": [
    "dic={'name':arr_name, 'train': arr_train, 'test': arr_test, 'conf int': arr_var}\n",
    "df=pd.DataFrame(data=dic)\n",
    "df"
   ]
  },
  {
   "cell_type": "markdown",
   "metadata": {
    "colab_type": "text",
    "id": "6IjVkTdQAUVT"
   },
   "source": [
    "# Несколько трендов с шумом, sd шума = 1, sd угла наклона = 0.25"
   ]
  },
  {
   "cell_type": "code",
   "execution_count": 13,
   "metadata": {
    "code_folding": [
     0
    ],
    "colab": {
     "base_uri": "https://localhost:8080/",
     "height": 83,
     "resources": {
      "http://localhost:8080/nbextensions/google.colab/files.js": {
       "data": "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",
       "headers": [
        [
         "content-type",
         "application/javascript"
        ]
       ],
       "ok": true,
       "status": 200,
       "status_text": "OK"
      }
     }
    },
    "colab_type": "code",
    "id": "l2MNalySCsSU",
    "outputId": "03be6226-3f89-4624-c173-40a8a41d31a2"
   },
   "outputs": [
    {
     "data": {
      "text/html": [
       "\n",
       "     <input type=\"file\" id=\"files-14200a5e-2eae-4df6-a844-abc4946a44c4\" name=\"files[]\" multiple disabled />\n",
       "     <output id=\"result-14200a5e-2eae-4df6-a844-abc4946a44c4\">\n",
       "      Upload widget is only available when the cell has been executed in the\n",
       "      current browser session. Please rerun this cell to enable.\n",
       "      </output>\n",
       "      <script src=\"/nbextensions/google.colab/files.js\"></script> "
      ],
      "text/plain": [
       "<IPython.core.display.HTML object>"
      ]
     },
     "metadata": {
      "tags": []
     },
     "output_type": "display_data"
    },
    {
     "name": "stdout",
     "output_type": "stream",
     "text": [
      "Saving difficultTrend_whiteNoise.csv to difficultTrend_whiteNoise.csv\n"
     ]
    }
   ],
   "source": [
    "# google colab\n",
    "from google.colab import files\n",
    "\n",
    "uploaded = files.upload()"
   ]
  },
  {
   "cell_type": "code",
   "execution_count": 147,
   "metadata": {
    "code_folding": [
     0
    ],
    "colab": {},
    "colab_type": "code",
    "id": "1-vnn5VWAUVW"
   },
   "outputs": [],
   "source": [
    "# data\n",
    "data = pd.read_csv(\"series1/difficultTrend_whiteNoise.csv\")\n",
    "n = data.shape[0]\n",
    "test_perc = 0.3\n",
    "test_ratio = int(test_perc*n)\n",
    "\n",
    "arr_name = []\n",
    "arr_train = []\n",
    "arr_test = []\n",
    "arr_var= []"
   ]
  },
  {
   "cell_type": "markdown",
   "metadata": {
    "colab_type": "text",
    "id": "F2Hd-yA7AUVd"
   },
   "source": [
    "### Лучший и худший случаи\n",
    "##### Худший - по предыдущему, теорерическая ошибка $1.2525 = \\sigma^2 + \\sigma_a^2 + 2\\sigma_a^2/\\lambda$, $\\lambda =200$\n",
    "##### Лучший - из предыдущего вычитать среднее, посчитанное по последним n элементам, n подбирается кроссвалидацией. Теоретически равна $1.0025 = \\sigma^2 + 2\\sigma_a^2/\\lambda$, $\\lambda =200$"
   ]
  },
  {
   "cell_type": "code",
   "execution_count": 68,
   "metadata": {
    "colab": {},
    "colab_type": "code",
    "id": "rDiqLSuPAUVg",
    "outputId": "370063ae-ef5a-4951-9bbf-8ba18b0eb9db",
    "scrolled": true
   },
   "outputs": [
    {
     "name": "stdout",
     "output_type": "stream",
     "text": [
      "bounds MSE = (1.027, 1.258)\n"
     ]
    }
   ],
   "source": [
    "lower_bounds_winds = get_bounds()"
   ]
  },
  {
   "cell_type": "markdown",
   "metadata": {},
   "source": [
    "##### длина окна для каждого ряда и средняя длина окна"
   ]
  },
  {
   "cell_type": "code",
   "execution_count": 69,
   "metadata": {
    "colab": {},
    "colab_type": "code",
    "id": "jSIJiAdzAUVs",
    "outputId": "df4e6a31-eee1-4864-f4cb-77dbc94a3ad0",
    "scrolled": true
   },
   "outputs": [
    {
     "data": {
      "image/png": "[encoded data removed]",
      "text/plain": [
       "<Figure size 432x288 with 1 Axes>"
      ]
     },
     "metadata": {},
     "output_type": "display_data"
    },
    {
     "data": {
      "text/plain": [
       "178.48"
      ]
     },
     "execution_count": 69,
     "metadata": {},
     "output_type": "execute_result"
    }
   ],
   "source": [
    "plt.plot(lower_bounds_winds)\n",
    "plt.show()\n",
    "np.mean(lower_bounds_winds)"
   ]
  },
  {
   "cell_type": "markdown",
   "metadata": {
    "colab_type": "text",
    "id": "_crAJpFVAUV4"
   },
   "source": [
    "### Линейная регрессия не на разностях"
   ]
  },
  {
   "cell_type": "code",
   "execution_count": 130,
   "metadata": {
    "colab": {},
    "colab_type": "code",
    "id": "64qZeXMhAUV6"
   },
   "outputs": [
    {
     "data": {
      "text/plain": [
       "array([  2,   3,   4,   5,   6,   7,   8,   9,  10,  11,  12,  13,  14,\n",
       "        15,  16,  17,  18,  19,  20,  25,  30,  35,  40,  45,  50,  55,\n",
       "        60,  65,  70,  75,  80,  85,  90,  95, 100, 105, 110, 115])"
      ]
     },
     "execution_count": 130,
     "metadata": {},
     "output_type": "execute_result"
    }
   ],
   "source": [
    "winds = np.array(range(2,20,1))\n",
    "winds = np.append(winds, np.array(range(20,120,5)))\n",
    "winds"
   ]
  },
  {
   "cell_type": "code",
   "execution_count": 0,
   "metadata": {
    "colab": {},
    "colab_type": "code",
    "id": "nvOwX0kdAUWF"
   },
   "outputs": [],
   "source": [
    "regr_mse = get_mse(winds)"
   ]
  },
  {
   "cell_type": "markdown",
   "metadata": {},
   "source": [
    "##### ошибка"
   ]
  },
  {
   "cell_type": "code",
   "execution_count": 0,
   "metadata": {
    "colab": {},
    "colab_type": "code",
    "id": "WfRdWIEZAUWZ",
    "outputId": "53a06111-e44c-44e7-fb9a-c28ef8c7fea8"
   },
   "outputs": [
    {
     "data": {
      "text/plain": [
       "1.1914692332405425"
      ]
     },
     "execution_count": 46,
     "metadata": {
      "tags": []
     },
     "output_type": "execute_result"
    }
   ],
   "source": [
    "regr_mse[0]"
   ]
  },
  {
   "cell_type": "markdown",
   "metadata": {
    "colab_type": "text",
    "id": "-QG-dclAAUXU"
   },
   "source": [
    "### Линейная регрессия на разностях"
   ]
  },
  {
   "cell_type": "code",
   "execution_count": 131,
   "metadata": {},
   "outputs": [],
   "source": [
    "winds = np.array(range(2,20,1))\n",
    "winds = np.append(winds, np.array(range(20,120,5)))"
   ]
  },
  {
   "cell_type": "code",
   "execution_count": 139,
   "metadata": {},
   "outputs": [
    {
     "data": {
      "image/png": "[encoded data removed]",
      "text/plain": [
       "<Figure size 432x288 with 1 Axes>"
      ]
     },
     "metadata": {},
     "output_type": "display_data"
    }
   ],
   "source": [
    "res = get_dif(7,winds, lin_regr, True)"
   ]
  },
  {
   "cell_type": "code",
   "execution_count": 140,
   "metadata": {
    "colab": {},
    "colab_type": "code",
    "id": "w5OwT0QuAUXX"
   },
   "outputs": [],
   "source": [
    "regr_dif_mse = get_dif_mse(winds, lin_regr)"
   ]
  },
  {
   "cell_type": "code",
   "execution_count": 141,
   "metadata": {},
   "outputs": [
    {
     "name": "stdout",
     "output_type": "stream",
     "text": [
      "Linear regression: MSE=1.091+-0.023, train_MSE=1.085, mean_wind=15.42\n"
     ]
    }
   ],
   "source": [
    "print(\"Linear regression: MSE={}+-{}, train_MSE={}, mean_wind={}\".format(\n",
    "    np.round(np.mean(regr_dif_mse[:,0]),3), np.round(2*np.var(regr_dif_mse[:,0])**.5/10,3),\n",
    "    np.round(np.mean(regr_dif_mse[:,1]),3), np.mean(regr_dif_mse[:,2])))"
   ]
  },
  {
   "cell_type": "code",
   "execution_count": 142,
   "metadata": {
    "colab": {},
    "colab_type": "code",
    "id": "w5OwT0QuAUXX"
   },
   "outputs": [],
   "source": [
    "regr_i_dif_mse = get_dif_mse(winds, lin_regr_intercept)"
   ]
  },
  {
   "cell_type": "code",
   "execution_count": 143,
   "metadata": {},
   "outputs": [
    {
     "name": "stdout",
     "output_type": "stream",
     "text": [
      "Linear regression with intercept: MSE=1.15+-0.142, train_MSE=1.112, mean_wind=12.81\n"
     ]
    }
   ],
   "source": [
    "print(\"Linear regression with intercept: MSE={}+-{}, train_MSE={}, mean_wind={}\".format(\n",
    "    np.round(np.mean(regr_i_dif_mse[:,0]),3), np.round(2*np.var(regr_i_dif_mse[:,0])**.5/10,3),\n",
    "    np.round(np.mean(regr_i_dif_mse[:,1]),3), np.mean(regr_i_dif_mse[:,2])))"
   ]
  },
  {
   "cell_type": "code",
   "execution_count": 148,
   "metadata": {},
   "outputs": [],
   "source": [
    "arr_name.append('Lin regr')\n",
    "arr_train.append(np.round(np.mean(regr_dif_mse[:,1]),3))\n",
    "arr_test.append(np.round(np.mean(regr_dif_mse[:,0]),3))\n",
    "arr_var.append(np.round(2*np.var(regr_i_dif_mse[:,0])**.5/10,3))\n",
    "\n",
    "arr_name.append('Lin regr with intercept')\n",
    "arr_train.append(np.round(np.mean(regr_i_dif_mse[:,1]),3))\n",
    "arr_test.append(np.round(np.mean(regr_i_dif_mse[:,0]),3))\n",
    "arr_var.append(np.round(2*np.var(regr_i_dif_mse[:,0])**.5/10,3))"
   ]
  },
  {
   "cell_type": "markdown",
   "metadata": {
    "colab_type": "text",
    "id": "1CwE4g5qAUX-"
   },
   "source": [
    "### Lasso  на разностях"
   ]
  },
  {
   "cell_type": "code",
   "execution_count": 145,
   "metadata": {
    "colab": {},
    "colab_type": "code",
    "id": "POskmlf2AUYF"
   },
   "outputs": [],
   "source": [
    "lasso_dif_mse = get_dif_mse(winds, lasso)"
   ]
  },
  {
   "cell_type": "code",
   "execution_count": 146,
   "metadata": {
    "colab": {
     "base_uri": "https://localhost:8080/",
     "height": 34
    },
    "colab_type": "code",
    "id": "QD3zdHDJAUYL",
    "outputId": "276f1923-dae6-4076-a72c-a756e2dc99ba"
   },
   "outputs": [
    {
     "name": "stdout",
     "output_type": "stream",
     "text": [
      "Lasso: MSE=1.09+-0.02, train_MSE=1.062, mean_wind=52.78, mean_alpha=0.048\n"
     ]
    }
   ],
   "source": [
    "print(\"Lasso: MSE={}+-{}, train_MSE={}, mean_wind={}, mean_alpha={}\".format(\n",
    "    np.round(np.mean(lasso_dif_mse[:,0]),3), np.round(2*np.var(lasso_dif_mse[:,0])**.5/10,3),\n",
    "    np.round(np.mean(lasso_dif_mse[:,1]),3), np.mean(lasso_dif_mse[:,2]), \n",
    "    np.round(np.mean(lasso_dif_mse[:,3]), 3)))"
   ]
  },
  {
   "cell_type": "code",
   "execution_count": 150,
   "metadata": {
    "colab": {},
    "colab_type": "code",
    "id": "POskmlf2AUYF"
   },
   "outputs": [],
   "source": [
    "lasso_i_dif_mse = get_dif_mse(winds, lasso_intercept)"
   ]
  },
  {
   "cell_type": "code",
   "execution_count": 151,
   "metadata": {
    "colab": {
     "base_uri": "https://localhost:8080/",
     "height": 34
    },
    "colab_type": "code",
    "id": "QD3zdHDJAUYL",
    "outputId": "276f1923-dae6-4076-a72c-a756e2dc99ba"
   },
   "outputs": [
    {
     "name": "stdout",
     "output_type": "stream",
     "text": [
      "Lasso with intercepr: MSE=1.149+-0.049, train_MSE=1.083, mean_wind=50.05, mean_alpha=0.046\n"
     ]
    }
   ],
   "source": [
    "print(\"Lasso with intercepr: MSE={}+-{}, train_MSE={}, mean_wind={}, mean_alpha={}\".format(\n",
    "    np.round(np.mean(lasso_i_dif_mse[:,0]),3), np.round(2*np.var(lasso_i_dif_mse[:,0])**.5/10,3),\n",
    "    np.round(np.mean(lasso_i_dif_mse[:,1]),3), np.mean(lasso_i_dif_mse[:,2]), \n",
    "    np.round(np.mean(lasso_i_dif_mse[:,3]), 3)))"
   ]
  },
  {
   "cell_type": "code",
   "execution_count": 152,
   "metadata": {},
   "outputs": [],
   "source": [
    "arr_name.append('Lasso')\n",
    "arr_train.append(np.round(np.mean(lasso_dif_mse[:,1]),3))\n",
    "arr_test.append(np.round(np.mean(lasso_dif_mse[:,0]),3))\n",
    "arr_var.append(np.round(2*np.var(lasso_dif_mse[:,0])**.5/10,3))\n",
    "\n",
    "arr_name.append('Lasso with intercept')\n",
    "arr_train.append(np.round(np.mean(lasso_i_dif_mse[:,1]),3))\n",
    "arr_test.append(np.round(np.mean(lasso_i_dif_mse[:,0]),3))\n",
    "arr_var.append(np.round(2*np.var(lasso_i_dif_mse[:,0])**.5/10,3))"
   ]
  },
  {
   "cell_type": "markdown",
   "metadata": {
    "colab_type": "text",
    "id": "1CwE4g5qAUX-"
   },
   "source": [
    "### Tree  на разностях"
   ]
  },
  {
   "cell_type": "code",
   "execution_count": 153,
   "metadata": {
    "colab": {},
    "colab_type": "code",
    "id": "POskmlf2AUYF"
   },
   "outputs": [],
   "source": [
    "tree_dif_mse = get_dif_mse(winds, tree)"
   ]
  },
  {
   "cell_type": "code",
   "execution_count": 154,
   "metadata": {},
   "outputs": [
    {
     "name": "stdout",
     "output_type": "stream",
     "text": [
      "Tree: MSE=1.291+-0.064, train_MSE=1.171, mean_wind=30.97, depth=1.45, max_leaf=10.45\n"
     ]
    }
   ],
   "source": [
    "print(\"Tree: MSE={}+-{}, train_MSE={}, mean_wind={}, depth={}, max_leaf={}\".format(\n",
    "    np.round(np.mean(tree_dif_mse[:,0]),3), np.round(2*np.var(tree_dif_mse[:,0])**.5/10,3),\n",
    "    np.round(np.mean(tree_dif_mse[:,1]),3), np.mean(tree_dif_mse[:,2]), \n",
    "    np.round(np.mean(tree_dif_mse[:,3]), 3), np.round(np.mean(tree_dif_mse[:,4]), 3)))"
   ]
  },
  {
   "cell_type": "code",
   "execution_count": 155,
   "metadata": {},
   "outputs": [],
   "source": [
    "arr_name.append('Tree')\n",
    "arr_train.append(np.round(np.mean(tree_dif_mse[:,1]),3))\n",
    "arr_test.append(np.round(np.mean(tree_dif_mse[:,0]),3))\n",
    "arr_var.append(np.round(2*np.var(tree_dif_mse[:,0])**.5/10,3))"
   ]
  },
  {
   "cell_type": "markdown",
   "metadata": {},
   "source": [
    "### Boosting  на разностях"
   ]
  },
  {
   "cell_type": "code",
   "execution_count": 156,
   "metadata": {},
   "outputs": [],
   "source": [
    "winds_boost = np.array(range(2,20,3))\n",
    "winds_boost = np.append(winds_boost, np.array(range(20,141,15)))"
   ]
  },
  {
   "cell_type": "code",
   "execution_count": 157,
   "metadata": {
    "colab": {},
    "colab_type": "code",
    "id": "POskmlf2AUYF"
   },
   "outputs": [],
   "source": [
    "boost_dif_mse = get_dif_mse(winds_boost, boost)"
   ]
  },
  {
   "cell_type": "code",
   "execution_count": 158,
   "metadata": {
    "colab": {
     "base_uri": "https://localhost:8080/",
     "height": 34
    },
    "colab_type": "code",
    "id": "QD3zdHDJAUYL",
    "outputId": "276f1923-dae6-4076-a72c-a756e2dc99ba",
    "scrolled": true
   },
   "outputs": [
    {
     "name": "stdout",
     "output_type": "stream",
     "text": [
      "Tree: MSE=1.181+-0.046, train_MSE=1.099, mean_wind=58.91, mean_estim=42.6, mean_depth=1.5\n"
     ]
    }
   ],
   "source": [
    "print(\"Tree: MSE={}+-{}, train_MSE={}, mean_wind={}, mean_estim={}, mean_depth={}\".format(\n",
    "    np.round(np.mean(boost_dif_mse[:,0]),3), np.round(2*np.var(boost_dif_mse[:,0])**.5/10,3),\n",
    "    np.round(np.mean(boost_dif_mse[:,1]),3), np.mean(boost_dif_mse[:,2]), \n",
    "    np.round(np.mean(boost_dif_mse[:,3]), 3), np.round(np.mean(boost_dif_mse[:,4]), 3)))"
   ]
  },
  {
   "cell_type": "code",
   "execution_count": 159,
   "metadata": {},
   "outputs": [],
   "source": [
    "arr_name.append('XGBoost')\n",
    "arr_train.append(np.round(np.mean(boost_dif_mse[:,1]),3))\n",
    "arr_test.append(np.round(np.mean(boost_dif_mse[:,0]),3))\n",
    "arr_var.append(np.round(np.var(boost_dif_mse[:,0])**.5/10,3))"
   ]
  },
  {
   "cell_type": "markdown",
   "metadata": {},
   "source": [
    "### Результаты"
   ]
  },
  {
   "cell_type": "code",
   "execution_count": 160,
   "metadata": {},
   "outputs": [
    {
     "data": {
      "text/html": [
       "<div>\n",
       "<style scoped>\n",
       "    .dataframe tbody tr th:only-of-type {\n",
       "        vertical-align: middle;\n",
       "    }\n",
       "\n",
       "    .dataframe tbody tr th {\n",
       "        vertical-align: top;\n",
       "    }\n",
       "\n",
       "    .dataframe thead th {\n",
       "        text-align: right;\n",
       "    }\n",
       "</style>\n",
       "<table border=\"1\" class=\"dataframe\">\n",
       "  <thead>\n",
       "    <tr style=\"text-align: right;\">\n",
       "      <th></th>\n",
       "      <th>name</th>\n",
       "      <th>train</th>\n",
       "      <th>test</th>\n",
       "      <th>var</th>\n",
       "    </tr>\n",
       "  </thead>\n",
       "  <tbody>\n",
       "    <tr>\n",
       "      <th>0</th>\n",
       "      <td>Lin regr</td>\n",
       "      <td>1.085</td>\n",
       "      <td>1.091</td>\n",
       "      <td>0.053</td>\n",
       "    </tr>\n",
       "    <tr>\n",
       "      <th>1</th>\n",
       "      <td>Lin regr with intercept</td>\n",
       "      <td>1.112</td>\n",
       "      <td>1.150</td>\n",
       "      <td>0.053</td>\n",
       "    </tr>\n",
       "    <tr>\n",
       "      <th>2</th>\n",
       "      <td>Lasso</td>\n",
       "      <td>1.062</td>\n",
       "      <td>1.090</td>\n",
       "      <td>0.020</td>\n",
       "    </tr>\n",
       "    <tr>\n",
       "      <th>3</th>\n",
       "      <td>Lasso with intercept</td>\n",
       "      <td>1.083</td>\n",
       "      <td>1.149</td>\n",
       "      <td>0.049</td>\n",
       "    </tr>\n",
       "    <tr>\n",
       "      <th>4</th>\n",
       "      <td>Tree</td>\n",
       "      <td>1.171</td>\n",
       "      <td>1.291</td>\n",
       "      <td>0.064</td>\n",
       "    </tr>\n",
       "    <tr>\n",
       "      <th>5</th>\n",
       "      <td>XGBoost</td>\n",
       "      <td>1.099</td>\n",
       "      <td>1.181</td>\n",
       "      <td>0.023</td>\n",
       "    </tr>\n",
       "  </tbody>\n",
       "</table>\n",
       "</div>"
      ],
      "text/plain": [
       "                      name  train   test    var\n",
       "0                 Lin regr  1.085  1.091  0.053\n",
       "1  Lin regr with intercept  1.112  1.150  0.053\n",
       "2                    Lasso  1.062  1.090  0.020\n",
       "3     Lasso with intercept  1.083  1.149  0.049\n",
       "4                     Tree  1.171  1.291  0.064\n",
       "5                  XGBoost  1.099  1.181  0.023"
      ]
     },
     "execution_count": 160,
     "metadata": {},
     "output_type": "execute_result"
    }
   ],
   "source": [
    "dic={'name':arr_name, 'train': arr_train, 'test': arr_test, 'var': arr_var}\n",
    "df=pd.DataFrame(data=dic)\n",
    "df"
   ]
  }
 ],
 "metadata": {
  "colab": {
   "collapsed_sections": [
    "6IjVkTdQAUVT",
    "F2Hd-yA7AUVd",
    "_crAJpFVAUV4",
    "-QG-dclAAUXU"
   ],
   "name": "predict.ipynb",
   "provenance": [],
   "version": "0.3.2"
  },
  "kernelspec": {
   "display_name": "Python 3",
   "language": "python",
   "name": "python3"
  },
  "language_info": {
   "codemirror_mode": {
    "name": "ipython",
    "version": 3
   },
   "file_extension": ".py",
   "mimetype": "text/x-python",
   "name": "python",
   "nbconvert_exporter": "python",
   "pygments_lexer": "ipython3",
   "version": "3.6.7"
  }
 },
 "nbformat": 4,
 "nbformat_minor": 1
}
