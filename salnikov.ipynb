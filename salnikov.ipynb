{
 "cells": [
  {
   "cell_type": "code",
   "execution_count": 1,
   "metadata": {
    "code_folding": [
     0
    ],
    "colab": {},
    "colab_type": "code",
    "id": "6FDhB3ptAUTO"
   },
   "outputs": [],
   "source": [
    "# imports\n",
    "import pandas as pd\n",
    "import numpy as np\n",
    "import sklearn as sk\n",
    "from matplotlib import pyplot as plt\n",
    "from sklearn import linear_model\n",
    "from sklearn import tree\n",
    "from sklearn.model_selection import GridSearchCV\n",
    "#import nbimporter\n",
    "#from funcs import *\n",
    "from xgboost import XGBRegressor\n",
    "import copy"
   ]
  },
  {
   "cell_type": "code",
   "execution_count": 2,
   "metadata": {
    "code_folding": [
     0
    ],
    "colab": {},
    "colab_type": "code",
    "id": "DGuHQKJHAUT3"
   },
   "outputs": [],
   "source": [
    "def get_forw(i, winds, plot_fig = False):\n",
    "    X = np.array(data['series'+str(i)])\n",
    "    test = X[(n-test_ratio):n]\n",
    "    \n",
    "    MSE_dif = 10\n",
    "    cur_wind = -1\n",
    "    train_t = -1\n",
    "    test_t = -1\n",
    "    regr_res = -1\n",
    "    \n",
    "    for wind in winds:\n",
    "        m=n-wind\n",
    "        ntest = int((m-test_ratio+1)*cross_test)\n",
    "        ntrain = (m-test_ratio+1)-ntest\n",
    "        Xt = np.copy(X[0:wind])\n",
    "        for i in range(1,m+1):\n",
    "            Xt =  np.vstack((Xt,X[i:(i+wind)]))\n",
    "        train_loc = Xt[0:ntrain]\n",
    "        test_loc = Xt[ntrain:(m-test_ratio+1)]\n",
    "        regr = linear_model.LinearRegression()\n",
    "        regr.fit(train_loc[:,0:(wind-1)], train_loc[:,wind-1])\n",
    "        res_loc = regr.predict(test_loc[:,0:(wind-1)])\n",
    "        mse_loc = sk.metrics.mean_squared_error(res_loc, test_loc[:,wind-1])\n",
    "        if (mse_loc < MSE_dif):\n",
    "            MSE_dif = mse_loc\n",
    "            cur_wind = wind\n",
    "            train_t = np.copy(Xt[0:(m-test_ratio+1)])\n",
    "            test_t = np.copy(Xt[(m-test_ratio+1):(m+1)])\n",
    "            regr_res = regr\n",
    "\n",
    "    regr_res.fit(train_t[:,0:(cur_wind-1)], train_t[:,cur_wind-1])\n",
    "    res_dif = regr_res.predict(test_t[:,0:(cur_wind-1)])\n",
    "  \n",
    "    return(np.array([sk.metrics.mean_squared_error(res_dif, test), cur_wind]))"
   ]
  },
  {
   "cell_type": "code",
   "execution_count": 3,
   "metadata": {
    "code_folding": [
     0
    ],
    "colab": {},
    "colab_type": "code",
    "id": "weUrMTITAUUB"
   },
   "outputs": [],
   "source": [
    "def get_mse(winds, print_msg = True):\n",
    "    MSE = get_forw(1,winds)\n",
    "    for i in range(2,101):\n",
    "        MSE = np.vstack((MSE,get_forw(i,winds)))\n",
    "        # if (print_msg):\n",
    "        # print(\"Linear regression: MSE={}\".format(np.round(np.mean(MSE),3)))\n",
    "    return([np.mean(MSE[:,0]),MSE])"
   ]
  },
  {
   "cell_type": "code",
   "execution_count": 4,
   "metadata": {
    "code_folding": [
     0
    ],
    "colab": {},
    "colab_type": "code",
    "id": "DSV27rHPAUUJ"
   },
   "outputs": [],
   "source": [
    "def get_upper_bound(i, plot_fig = False):\n",
    "    X = np.array(data['series'+str(i)])\n",
    "    res = X[(n-test_ratio-1):(n-1)]\n",
    "    test = X[(n-test_ratio):n]\n",
    "    MSE = sk.metrics.mean_squared_error(res, test)\n",
    "   \n",
    "    if (plot_fig):\n",
    "        plt.plot(res)\n",
    "        plt.plot(test)\n",
    "        plt.show()\n",
    "\n",
    "    return(MSE)"
   ]
  },
  {
   "cell_type": "code",
   "execution_count": 5,
   "metadata": {
    "code_folding": [
     0
    ],
    "colab": {},
    "colab_type": "code",
    "id": "8NCoAXgoAUUQ"
   },
   "outputs": [],
   "source": [
    "def get_upper_bound_mse(plot_fig = False):\n",
    "    get_upper_bound(1,plot_fig)\n",
    "    MSE = []\n",
    "    for i in range(1,101):\n",
    "        MSE = np.append(MSE, get_upper_bound(i))\n",
    "    #print(\"Linear regression: upper bound MSE={}\".format(np.round(np.mean(MSE),3)))\n",
    "    return(np.mean(MSE))"
   ]
  },
  {
   "cell_type": "code",
   "execution_count": 6,
   "metadata": {
    "code_folding": [
     0
    ],
    "colab": {},
    "colab_type": "code",
    "id": "agxhbzfuAUUY"
   },
   "outputs": [],
   "source": [
    "def get_lower_bound(i):\n",
    "    X = np.array(data['series'+str(i)])\n",
    "    test = X[(n-test_ratio):n]\n",
    "    X_dif = X[1:n]-X[0:(n-1)]\n",
    "    test_dif = X_dif[(n-test_ratio-1):(n-1)]\n",
    "    opt = np.var(test_dif)\n",
    "    opt_wind = 0\n",
    "    for wind in range(1,n-test_ratio-1):\n",
    "        test_dif = np.copy(X_dif[(n-test_ratio-1):(n-1)])\n",
    "        for i in range(0,test_ratio):\n",
    "            test_dif[i] = test_dif[i] - np.mean(X_dif[(n-test_ratio-1 + i-wind):(n-test_ratio-1 + i)])\n",
    "        tmp = np.var(test_dif)\n",
    "        if (tmp < opt):\n",
    "            opt = tmp\n",
    "            opt_wind = wind\n",
    "\n",
    "    return([opt,opt_wind])"
   ]
  },
  {
   "cell_type": "code",
   "execution_count": 7,
   "metadata": {
    "code_folding": [
     0
    ],
    "colab": {},
    "colab_type": "code",
    "id": "o4NcVBJVAUUi"
   },
   "outputs": [],
   "source": [
    "def get_lower_bound_mse():\n",
    "    MSE = []\n",
    "    winds = []\n",
    "    for i in range(1,101):\n",
    "        tmp = get_lower_bound(i)\n",
    "        MSE = np.append(MSE, tmp[0])\n",
    "        winds = np.append(winds, tmp[1])\n",
    "    #print(\"Linear regression: lower bound MSE={}\".format(np.round(np.mean(MSE),3)))\n",
    "    return([np.mean(MSE), winds])"
   ]
  },
  {
   "cell_type": "code",
   "execution_count": 8,
   "metadata": {
    "code_folding": [
     0
    ],
    "colab": {},
    "colab_type": "code",
    "id": "Z98Q46ZJAUUu"
   },
   "outputs": [],
   "source": [
    "def get_bounds():\n",
    "    lower_bound = get_lower_bound_mse()\n",
    "    print(\"bounds MSE = ({}, {})\".format(*[np.round(lower_bound[0],3),np.round(get_upper_bound_mse(),3)]))\n",
    "    return(lower_bound[1])"
   ]
  },
  {
   "cell_type": "code",
   "execution_count": 133,
   "metadata": {},
   "outputs": [],
   "source": [
    "data = pd.read_csv(\"series1/linear_trend.csv\")"
   ]
  },
  {
   "cell_type": "code",
   "execution_count": 135,
   "metadata": {},
   "outputs": [],
   "source": [
    "data = pd.read_csv(\"series1/difficult_trend.csv\")"
   ]
  },
  {
   "cell_type": "code",
   "execution_count": null,
   "metadata": {},
   "outputs": [],
   "source": [
    "data = pd.read_csv(\"series1/white_noise.csv\")"
   ]
  },
  {
   "cell_type": "code",
   "execution_count": null,
   "metadata": {},
   "outputs": [],
   "source": [
    "data = pd.read_csv(\"series1/trend_whiteNoise.csv\")"
   ]
  },
  {
   "cell_type": "code",
   "execution_count": null,
   "metadata": {},
   "outputs": [],
   "source": [
    "data = pd.read_csv(\"series1/difficultTrend_whiteNoise.csv\")"
   ]
  },
  {
   "cell_type": "code",
   "execution_count": 139,
   "metadata": {},
   "outputs": [
    {
     "name": "stdout",
     "output_type": "stream",
     "text": [
      "0.0011641288222876726\n"
     ]
    },
    {
     "data": {
      "image/png": "[encoded data removed]",
      "text/plain": [
       "<Figure size 432x288 with 1 Axes>"
      ]
     },
     "metadata": {},
     "output_type": "display_data"
    },
    {
     "name": "stdout",
     "output_type": "stream",
     "text": [
      "[0.0, array([0.96631657])]\n"
     ]
    }
   ],
   "source": [
    "X = np.array(data['series1'])\n",
    "#print(data['series1'])\n",
    "#sk.preprocessing.scale(\n",
    "X_dif = X[1:n]-X[0:(n-1)]\n",
    "#print(X_dif)\n",
    "plt.plot(X_dif)\n",
    "#plt.show()\n",
    "wind = 2\n",
    "m=n-wind\n",
    "Xt = X_dif[0:wind]\n",
    "for i in range(1,m):\n",
    "    Xt =  np.vstack((Xt,X_dif[i:(i+wind)]))\n",
    "X = Xt[0:698,0:(wind-1)]\n",
    "Y = Xt[0:698,wind-1]\n",
    "Xtest = Xt[698:998,0:(wind-1)]\n",
    "Ytest = Xt[698:998,wind-1]\n",
    "regr = linear_model.LinearRegression(fit_intercept=False).fit(X, Y)\n",
    "regr.predict(Xtest)\n",
    "print(sk.metrics.mean_squared_error(regr.predict(Xtest),Ytest))\n",
    "plt.plot(regr.predict(Xt[:,0:(wind-1)]))\n",
    "plt.show()\n",
    "print([regr.intercept_,regr.coef_])\n",
    "#Xtest[:,0]-Ytest"
   ]
  },
  {
   "cell_type": "code",
   "execution_count": 17,
   "metadata": {},
   "outputs": [
    {
     "data": {
      "image/png": "[encoded data removed]",
      "text/plain": [
       "<Figure size 432x288 with 1 Axes>"
      ]
     },
     "metadata": {},
     "output_type": "display_data"
    }
   ],
   "source": [
    "plt.plot(data['series2'])\n",
    "plt.show()"
   ]
  },
  {
   "cell_type": "code",
   "execution_count": 117,
   "metadata": {
    "code_folding": [
     0
    ],
    "colab": {},
    "colab_type": "code",
    "id": "HGd_BAI_AUTh"
   },
   "outputs": [],
   "source": [
    "def get_dif(i,winds, meth, plot_fig = False):\n",
    "    X = np.array(data['series'+str(i)])\n",
    "    X_dif = X[1:n]-X[0:(n-1)]\n",
    "\n",
    "    MSE_dif = 10\n",
    "    cur_wind = -1\n",
    "    train_t = -1\n",
    "    test_t = -1\n",
    "    regr_res = -1\n",
    "    params = []\n",
    "    \n",
    "    for wind in winds:\n",
    "        #print(wind, end = '  ')\n",
    "        m=n-wind\n",
    "        Xt = X_dif[0:wind]\n",
    "        for i in range(1,m):\n",
    "            Xt =  np.vstack((Xt,X_dif[i:(i+wind)]))\n",
    "        train_loc = np.copy(Xt[0:(m-test_ratio)])\n",
    "        regr = meth(train_loc[:,0:(wind-1)], train_loc[:,wind-1])\n",
    "        mse_loc = regr[2]\n",
    "        #sk.metrics.mean_squared_error(regr[0].predict(train_loc[:,0:(wind-1)]), train_loc[:,wind-1]) \n",
    "        if (mse_loc < MSE_dif):\n",
    "            MSE_dif = mse_loc\n",
    "            cur_wind = wind\n",
    "            test_t = np.copy(Xt[(m-test_ratio):m])\n",
    "            regr_res = regr[0]\n",
    "            params = regr[1]\n",
    "        \n",
    "    res_dif = regr_res.predict(test_t[:,0:(cur_wind-1)])\n",
    "    \n",
    "    if (plot_fig):\n",
    "        plt.plot(res_dif+X[(n-test_ratio-1):(n-1)]) # res\n",
    "        plt.plot(X[(n-test_ratio):n]) # test\n",
    "        plt.show()\n",
    "    #for i in range(0,300):\n",
    "    #    print((res_dif[i]-test_t[i,cur_wind-1])**2)\n",
    "    return(np.append(np.array([sk.metrics.mean_squared_error(res_dif, test_t[:,cur_wind-1]), \n",
    "                               MSE_dif, cur_wind]), params))"
   ]
  },
  {
   "cell_type": "code",
   "execution_count": 4,
   "metadata": {
    "code_folding": [
     0
    ],
    "colab": {},
    "colab_type": "code",
    "id": "lVfTLGigAUTs"
   },
   "outputs": [],
   "source": [
    "def get_dif_mse(winds, meth, n_ser = 101, print_msg = True):\n",
    "    #print(1)\n",
    "    #print(end = '  ')\n",
    "    MSE = get_dif(1, winds, meth)\n",
    "    #print()\n",
    "    for i in range(2,n_ser):\n",
    "        #print(i)\n",
    "        #print(end = '  ')\n",
    "        MSE = np.vstack((MSE,get_dif(i, winds, meth)))\n",
    "        #print()\n",
    "        # if (print_msg):\n",
    "        # print(\"Linear regression by differences: MSE_dif={}\".format(np.round(np.mean(MSE),3)))\n",
    "    return(MSE)"
   ]
  },
  {
   "cell_type": "code",
   "execution_count": 80,
   "metadata": {
    "code_folding": [],
    "colab": {},
    "colab_type": "code",
    "id": "dOgSdpufAUVB"
   },
   "outputs": [],
   "source": [
    "def lin_regr(X, Y):\n",
    "    regr = linear_model.LinearRegression(fit_intercept=False)\n",
    "    params = {'n_jobs': [-1]}\n",
    "    dt_clf = GridSearchCV(regr, params, cv=3, n_jobs=-1, iid=False, \n",
    "                          verbose = 0, scoring='neg_mean_squared_error').fit(X, Y)\n",
    "    return [dt_clf.best_estimator_, 0, -dt_clf.best_score_]"
   ]
  },
  {
   "cell_type": "code",
   "execution_count": 38,
   "metadata": {
    "code_folding": [
     0
    ],
    "colab": {},
    "colab_type": "code",
    "id": "lYajcizEAUVL"
   },
   "outputs": [],
   "source": [
    "def lasso(X, Y):\n",
    "    regr = sk.linear_model.LassoCV(verbose=False,n_jobs=-1, cv=3, fit_intercept=False).fit(X, Y)\n",
    "    return [regr, regr.alpha_, min(np.mean(regr.mse_path_,1))]"
   ]
  },
  {
   "cell_type": "code",
   "execution_count": 39,
   "metadata": {
    "code_folding": [
     0
    ]
   },
   "outputs": [],
   "source": [
    "def tree(X, Y):\n",
    "    regr = sk.tree.DecisionTreeRegressor()\n",
    "    params = { 'max_depth': range(1,6) }\n",
    "    dt_clf = GridSearchCV(regr, params, cv=3, n_jobs=-1, iid=False, verbose = 0, \n",
    "                          scoring='neg_mean_squared_error').fit(X, Y)\n",
    "    return [dt_clf.best_estimator_, dt_clf.best_params_['max_depth'], -dt_clf.best_score_]"
   ]
  },
  {
   "cell_type": "code",
   "execution_count": 40,
   "metadata": {
    "code_folding": [
     0
    ]
   },
   "outputs": [],
   "source": [
    "def boost(X, Y):\n",
    "    regr = XGBRegressor(n_jobs=-1)\n",
    "    params = {\n",
    "        'n_estimators' : range(20,121,20),\n",
    "        'max_depth': range(1,4)\n",
    "    }\n",
    "    dt_clf = GridSearchCV(regr, params, cv=3, n_jobs=-1, iid=False, verbose = 0\n",
    "                          , scoring='neg_mean_squared_error').fit(X, Y)\n",
    "    return [dt_clf.best_estimator_,np.array([dt_clf.best_params_['n_estimators'], \n",
    "                                             dt_clf.best_params_['max_depth']]), -dt_clf.best_score_]"
   ]
  },
  {
   "cell_type": "markdown",
   "metadata": {},
   "source": [
    "# 1 тренд без шума"
   ]
  },
  {
   "cell_type": "code",
   "execution_count": 150,
   "metadata": {
    "code_folding": [
     0
    ]
   },
   "outputs": [],
   "source": [
    "# data, params\n",
    "data = pd.read_csv(\"series1/linear_trend.csv\")\n",
    "n = data.shape[0]\n",
    "test_perc = 0.3\n",
    "test_ratio = int(test_perc*n)\n",
    "cross_test = 0.35"
   ]
  },
  {
   "cell_type": "markdown",
   "metadata": {},
   "source": [
    "### Linear regression"
   ]
  },
  {
   "cell_type": "code",
   "execution_count": 64,
   "metadata": {
    "scrolled": true
   },
   "outputs": [
    {
     "data": {
      "image/png": "[encoded data removed]",
      "text/plain": [
       "<Figure size 432x288 with 1 Axes>"
      ]
     },
     "metadata": {},
     "output_type": "display_data"
    },
    {
     "name": "stdout",
     "output_type": "stream",
     "text": [
      "Linear regression: MSE=0.0, train_MSE=0.0, wind=2\n"
     ]
    }
   ],
   "source": [
    "res = get_dif(1,[2], lin_regr, True)\n",
    "print(\"Linear regression: MSE={}, train_MSE={}, wind={}\".format(np.round(res[0],3), np.round(res[1],3), int(res[2])))"
   ]
  },
  {
   "cell_type": "markdown",
   "metadata": {},
   "source": [
    "### Lasso"
   ]
  },
  {
   "cell_type": "code",
   "execution_count": 445,
   "metadata": {
    "scrolled": true
   },
   "outputs": [
    {
     "data": {
      "image/png": "[encoded data removed]",
      "text/plain": [
       "<Figure size 432x288 with 1 Axes>"
      ]
     },
     "metadata": {},
     "output_type": "display_data"
    },
    {
     "name": "stdout",
     "output_type": "stream",
     "text": [
      "Linear regression: MSE=0.0, train_MSE=0.0, wind=2, alpha=0.0\n"
     ]
    }
   ],
   "source": [
    "res = get_dif(1,[2], lasso, True)\n",
    "print(\"Linear regression: MSE={}, train_MSE={}, wind={}, alpha={}\".format(np.round(res[0],3), np.round(res[1],3), int(res[2]), round(res[3],3)))"
   ]
  },
  {
   "cell_type": "markdown",
   "metadata": {},
   "source": [
    "### Tree"
   ]
  },
  {
   "cell_type": "code",
   "execution_count": 446,
   "metadata": {
    "scrolled": true
   },
   "outputs": [
    {
     "data": {
      "image/png": "[encoded data removed]",
      "text/plain": [
       "<Figure size 432x288 with 1 Axes>"
      ]
     },
     "metadata": {},
     "output_type": "display_data"
    },
    {
     "name": "stdout",
     "output_type": "stream",
     "text": [
      "Linear regression: MSE=0.0, train_MSE=0.0, wind=2, depth=1\n"
     ]
    }
   ],
   "source": [
    "res = get_dif(1,[2], tree, True)\n",
    "print(\"Linear regression: MSE={}, train_MSE={}, wind={}, depth={}\".format(np.round(res[0],3), \n",
    "    np.round(res[1],3), int(res[2]), int(res[3])))"
   ]
  },
  {
   "cell_type": "markdown",
   "metadata": {},
   "source": [
    "### XGBoost"
   ]
  },
  {
   "cell_type": "code",
   "execution_count": 447,
   "metadata": {
    "scrolled": false
   },
   "outputs": [
    {
     "data": {
      "image/png": "[encoded data removed]",
      "text/plain": [
       "<Figure size 432x288 with 1 Axes>"
      ]
     },
     "metadata": {},
     "output_type": "display_data"
    },
    {
     "name": "stdout",
     "output_type": "stream",
     "text": [
      "Linear regression: MSE=0.0, train_MSE=0.0, wind=2, estim=150, depth=1\n"
     ]
    }
   ],
   "source": [
    "res = get_dif(1,[2], boost, True)\n",
    "print(\"Linear regression: MSE={}, train_MSE={}, wind={}, estim={}, depth={}\".format(np.round(res[0],3), \n",
    "    np.round(res[1],3), int(res[2]), int(res[3]), int(res[4])))"
   ]
  },
  {
   "cell_type": "markdown",
   "metadata": {},
   "source": [
    "# Белый шум"
   ]
  },
  {
   "cell_type": "code",
   "execution_count": 145,
   "metadata": {},
   "outputs": [],
   "source": [
    "data = pd.read_csv(\"series1/white_noise.csv\")\n",
    "\n",
    "arr_name = []\n",
    "arr_train = []\n",
    "arr_test = []\n",
    "arr_var = []"
   ]
  },
  {
   "cell_type": "markdown",
   "metadata": {},
   "source": [
    "### ошибка по предыдущему значению"
   ]
  },
  {
   "cell_type": "code",
   "execution_count": 146,
   "metadata": {},
   "outputs": [
    {
     "data": {
      "text/plain": [
       "1.01068"
      ]
     },
     "execution_count": 146,
     "metadata": {},
     "output_type": "execute_result"
    }
   ],
   "source": [
    "wn_min_err = []\n",
    "for i in range(1,101):\n",
    "    wn_min_err.append(round(sk.metrics.mean_squared_error(data['series'+str(i)][(n-test_ratio):n], \n",
    "                                    data['series'+str(i)][(n-test_ratio-1):(n-1)]), 3))\n",
    "np.mean(wn_min_err)"
   ]
  },
  {
   "cell_type": "markdown",
   "metadata": {},
   "source": [
    "### Linear regression"
   ]
  },
  {
   "cell_type": "code",
   "execution_count": 449,
   "metadata": {
    "scrolled": true
   },
   "outputs": [
    {
     "data": {
      "image/png": "[encoded data removed]",
      "text/plain": [
       "<Figure size 432x288 with 1 Axes>"
      ]
     },
     "metadata": {},
     "output_type": "display_data"
    }
   ],
   "source": [
    "res = get_dif(1,[15], lin_regr, True)"
   ]
  },
  {
   "cell_type": "code",
   "execution_count": 131,
   "metadata": {},
   "outputs": [],
   "source": [
    "regr_wn_mse = get_dif_mse([5], lin_regr)"
   ]
  },
  {
   "cell_type": "code",
   "execution_count": 132,
   "metadata": {},
   "outputs": [
    {
     "name": "stdout",
     "output_type": "stream",
     "text": [
      "Linear regression: MSE=1.018+-0.017, train_MSE=1.0\n"
     ]
    }
   ],
   "source": [
    "print(\"Linear regression: MSE={}+-{}, train_MSE={}\".format(np.round(np.mean(regr_wn_mse[:,0]),3),\n",
    "    np.round(2*np.var(regr_wn_mse[:,0]),3), np.round(np.mean(regr_wn_mse[:,1]),3)))"
   ]
  },
  {
   "cell_type": "code",
   "execution_count": 489,
   "metadata": {},
   "outputs": [
    {
     "name": "stdout",
     "output_type": "stream",
     "text": [
      "Linear regression: MSE=1.034+-0.018, train_MSE=1.024\n"
     ]
    }
   ],
   "source": [
    "print(\"Linear regression: MSE={}+-{}, train_MSE={}\".format(np.round(np.mean(regr_wn_mse[:,0]),3),\n",
    "    np.round(2*np.var(regr_wn_mse[:,0]),3), np.round(np.mean(regr_wn_mse[:,1]),3)))"
   ]
  },
  {
   "cell_type": "code",
   "execution_count": 501,
   "metadata": {},
   "outputs": [],
   "source": [
    "arr_name.append('Lin regr')\n",
    "arr_train.append(np.round(np.mean(regr_wn_mse[:,1]),3))\n",
    "arr_test.append(np.round(np.mean(regr_wn_mse[:,0]),3))\n",
    "arr_var.append(np.round(np.var(regr_wn_mse[:,0]),3))"
   ]
  },
  {
   "cell_type": "markdown",
   "metadata": {},
   "source": [
    "### Lasso"
   ]
  },
  {
   "cell_type": "code",
   "execution_count": 453,
   "metadata": {},
   "outputs": [],
   "source": [
    "lasso_wn_mse = get_dif_mse([15], lasso)"
   ]
  },
  {
   "cell_type": "code",
   "execution_count": 493,
   "metadata": {},
   "outputs": [
    {
     "name": "stdout",
     "output_type": "stream",
     "text": [
      "Linear regression: MSE=1.013+-0.016, train_MSE=0.993, mean_alpha=0.064\n"
     ]
    }
   ],
   "source": [
    "print(\"Linear regression: MSE={}+-{}, train_MSE={}, mean_alpha={}\".format(\n",
    "    np.round(np.mean(lasso_wn_mse[:,0]),3), np.round(2*np.var(lasso_wn_mse[:,0]),3),\n",
    "    np.round(np.mean(lasso_wn_mse[:,1]),3), np.round(np.mean(lasso_wn_mse[:,3]),3)))"
   ]
  },
  {
   "cell_type": "code",
   "execution_count": 502,
   "metadata": {},
   "outputs": [],
   "source": [
    "arr_name.append('Lasso')\n",
    "arr_train.append(np.round(np.mean(lasso_wn_mse[:,1]),3))\n",
    "arr_test.append(np.round(np.mean(lasso_wn_mse[:,0]),3))\n",
    "arr_var.append(np.round(np.var(lasso_wn_mse[:,0]),3))"
   ]
  },
  {
   "cell_type": "markdown",
   "metadata": {},
   "source": [
    "### Tree"
   ]
  },
  {
   "cell_type": "code",
   "execution_count": 457,
   "metadata": {},
   "outputs": [],
   "source": [
    "tree_wn_mse = get_dif_mse([15], tree)"
   ]
  },
  {
   "cell_type": "code",
   "execution_count": 496,
   "metadata": {},
   "outputs": [
    {
     "name": "stdout",
     "output_type": "stream",
     "text": [
      "Tree: MSE=1.032+-0.017, train_MSE=1.015, mean_depth=1.02\n"
     ]
    }
   ],
   "source": [
    "print(\"Tree: MSE={}+-{}, train_MSE={}, mean_depth={}\".format(np.round(np.mean(tree_wn_mse[:,0]),3), \n",
    "    np.round(2*np.var(tree_wn_mse[:,0]),3), np.round(np.mean(tree_wn_mse[:,1]),3), \n",
    "    np.round(np.mean(tree_wn_mse[:,3]),3)))"
   ]
  },
  {
   "cell_type": "code",
   "execution_count": 503,
   "metadata": {},
   "outputs": [],
   "source": [
    "arr_name.append('Tree')\n",
    "arr_train.append(np.round(np.mean(tree_wn_mse[:,1]),3))\n",
    "arr_test.append(np.round(np.mean(tree_wn_mse[:,0]),3))\n",
    "arr_var.append(np.round(np.var(tree_wn_mse[:,0]),3))"
   ]
  },
  {
   "cell_type": "markdown",
   "metadata": {},
   "source": [
    "### XGBoost"
   ]
  },
  {
   "cell_type": "code",
   "execution_count": 460,
   "metadata": {},
   "outputs": [],
   "source": [
    "boost_wn_mse = get_dif_mse([15], boost)"
   ]
  },
  {
   "cell_type": "code",
   "execution_count": 509,
   "metadata": {},
   "outputs": [
    {
     "name": "stdout",
     "output_type": "stream",
     "text": [
      "Tree: MSE=1.028+-0.017, train_MSE=1.009, mean_estim=50.0, mean_depth=1.0\n"
     ]
    }
   ],
   "source": [
    "print(\"Tree: MSE={}+-{}, train_MSE={}, mean_estim={}, mean_depth={}\".format(np.round(np.mean(boost_wn_mse[:,0]),3), \n",
    "    np.round(2*np.var(boost_wn_mse[:,0]),3), np.round(np.mean(boost_wn_mse[:,1]),3), \n",
    "    np.round(np.mean(boost_wn_mse[:,3]),3), np.round(np.mean(boost_wn_mse[:,4]),3)))"
   ]
  },
  {
   "cell_type": "code",
   "execution_count": 504,
   "metadata": {},
   "outputs": [],
   "source": [
    "arr_name.append('XGBoost')\n",
    "arr_train.append(np.round(np.mean(boost_wn_mse[:,1]),3))\n",
    "arr_test.append(np.round(np.mean(boost_wn_mse[:,0]),3))\n",
    "arr_var.append(np.round(np.var(boost_wn_mse[:,0]),3))"
   ]
  },
  {
   "cell_type": "markdown",
   "metadata": {},
   "source": [
    "### Результаты"
   ]
  },
  {
   "cell_type": "code",
   "execution_count": 506,
   "metadata": {},
   "outputs": [
    {
     "data": {
      "text/html": [
       "<div>\n",
       "<style scoped>\n",
       "    .dataframe tbody tr th:only-of-type {\n",
       "        vertical-align: middle;\n",
       "    }\n",
       "\n",
       "    .dataframe tbody tr th {\n",
       "        vertical-align: top;\n",
       "    }\n",
       "\n",
       "    .dataframe thead th {\n",
       "        text-align: right;\n",
       "    }\n",
       "</style>\n",
       "<table border=\"1\" class=\"dataframe\">\n",
       "  <thead>\n",
       "    <tr style=\"text-align: right;\">\n",
       "      <th></th>\n",
       "      <th>name</th>\n",
       "      <th>train</th>\n",
       "      <th>test</th>\n",
       "      <th>var</th>\n",
       "    </tr>\n",
       "  </thead>\n",
       "  <tbody>\n",
       "    <tr>\n",
       "      <th>0</th>\n",
       "      <td>Lin regr</td>\n",
       "      <td>1.024</td>\n",
       "      <td>1.034</td>\n",
       "      <td>0.009</td>\n",
       "    </tr>\n",
       "    <tr>\n",
       "      <th>1</th>\n",
       "      <td>Lasso</td>\n",
       "      <td>0.993</td>\n",
       "      <td>1.013</td>\n",
       "      <td>0.008</td>\n",
       "    </tr>\n",
       "    <tr>\n",
       "      <th>2</th>\n",
       "      <td>Tree</td>\n",
       "      <td>1.015</td>\n",
       "      <td>1.032</td>\n",
       "      <td>0.008</td>\n",
       "    </tr>\n",
       "    <tr>\n",
       "      <th>3</th>\n",
       "      <td>XGBoost</td>\n",
       "      <td>1.009</td>\n",
       "      <td>1.028</td>\n",
       "      <td>0.008</td>\n",
       "    </tr>\n",
       "  </tbody>\n",
       "</table>\n",
       "</div>"
      ],
      "text/plain": [
       "       name  train   test    var\n",
       "0  Lin regr  1.024  1.034  0.009\n",
       "1     Lasso  0.993  1.013  0.008\n",
       "2      Tree  1.015  1.032  0.008\n",
       "3   XGBoost  1.009  1.028  0.008"
      ]
     },
     "execution_count": 506,
     "metadata": {},
     "output_type": "execute_result"
    }
   ],
   "source": [
    "dic={'name':arr_name, 'train': arr_train, 'test': arr_test, 'var': arr_var}\n",
    "df=pd.DataFrame(data=dic)\n",
    "df"
   ]
  },
  {
   "cell_type": "markdown",
   "metadata": {},
   "source": [
    "# Несколько трендов без шума"
   ]
  },
  {
   "cell_type": "code",
   "execution_count": 152,
   "metadata": {},
   "outputs": [],
   "source": [
    "data = pd.read_csv(\"series1/difficult_trend.csv\")\n",
    "\n",
    "arr_name = []\n",
    "arr_train = []\n",
    "arr_test = []\n",
    "arr_var = []"
   ]
  },
  {
   "cell_type": "markdown",
   "metadata": {},
   "source": [
    "### Минимальная ошибка\n",
    "##### $\\sigma^2\\lambda=0.25/200=0.00125$"
   ]
  },
  {
   "cell_type": "markdown",
   "metadata": {},
   "source": [
    "### по предыдущему значению"
   ]
  },
  {
   "cell_type": "code",
   "execution_count": 158,
   "metadata": {},
   "outputs": [
    {
     "data": {
      "text/plain": [
       "0.009"
      ]
     },
     "execution_count": 158,
     "metadata": {},
     "output_type": "execute_result"
    }
   ],
   "source": [
    "wn_min_err = []\n",
    "for i in range(1,101):\n",
    "    X = np.array(data['series'+str(i)])\n",
    "    X_dif = X[1:n]-X[0:(n-1)]\n",
    "    wn_min_err.append(sk.metrics.mean_squared_error(X_dif[(n-test_ratio-1):(n-1)], \n",
    "                                    X_dif[(n-test_ratio-2):(n-2)]))\n",
    "np.round(np.mean(wn_min_err),3)"
   ]
  },
  {
   "cell_type": "markdown",
   "metadata": {},
   "source": [
    "### Linear regression"
   ]
  },
  {
   "cell_type": "code",
   "execution_count": 47,
   "metadata": {
    "scrolled": true
   },
   "outputs": [
    {
     "data": {
      "image/png": "[encoded data removed]",
      "text/plain": [
       "<Figure size 432x288 with 1 Axes>"
      ]
     },
     "metadata": {},
     "output_type": "display_data"
    },
    {
     "name": "stdout",
     "output_type": "stream",
     "text": [
      "Linear regression: MSE=0.001, train_MSE=0.009, wind=2\n"
     ]
    }
   ],
   "source": [
    "res = get_dif(1, [2], lin_regr, True)\n",
    "print(\"Linear regression: MSE={}, train_MSE={}, wind={}\".format(np.round(res[0],3), np.round(res[1],3), \n",
    "    int(res[2])))"
   ]
  },
  {
   "cell_type": "code",
   "execution_count": 48,
   "metadata": {},
   "outputs": [],
   "source": [
    "regr_wn_mse = get_dif_mse([2], lin_regr)"
   ]
  },
  {
   "cell_type": "code",
   "execution_count": 49,
   "metadata": {},
   "outputs": [
    {
     "name": "stdout",
     "output_type": "stream",
     "text": [
      "Linear regression: MSE=0.009+-0.0, train_MSE=0.014\n"
     ]
    }
   ],
   "source": [
    "print(\"Linear regression: MSE={}+-{}, train_MSE={}\".format(np.round(np.mean(regr_wn_mse[:,0]),3),\n",
    "    np.round(2*np.var(regr_wn_mse[:,0]),3), np.round(np.mean(regr_wn_mse[:,1]),3)))"
   ]
  },
  {
   "cell_type": "code",
   "execution_count": 51,
   "metadata": {},
   "outputs": [],
   "source": [
    "arr_name.append('Lin regr')\n",
    "arr_train.append(np.round(np.mean(regr_wn_mse[:,1]),3))\n",
    "arr_test.append(np.round(np.mean(regr_wn_mse[:,0]),3))\n",
    "arr_var.append(np.round(np.var(regr_wn_mse[:,0]),3))"
   ]
  },
  {
   "cell_type": "markdown",
   "metadata": {},
   "source": [
    "### Lasso"
   ]
  },
  {
   "cell_type": "code",
   "execution_count": 52,
   "metadata": {
    "scrolled": true
   },
   "outputs": [
    {
     "data": {
      "image/png": "[encoded data removed]",
      "text/plain": [
       "<Figure size 432x288 with 1 Axes>"
      ]
     },
     "metadata": {},
     "output_type": "display_data"
    },
    {
     "name": "stdout",
     "output_type": "stream",
     "text": [
      "Linear regression: MSE=0.001, train_MSE=0.009, wind=2, alpha=0.0\n"
     ]
    }
   ],
   "source": [
    "res = get_dif(1,[2], lasso, True)\n",
    "print(\"Linear regression: MSE={}, train_MSE={}, wind={}, alpha={}\".format(np.round(res[0],3), \n",
    "    np.round(res[1],3), int(res[2]), round(res[3],3)))"
   ]
  },
  {
   "cell_type": "code",
   "execution_count": 53,
   "metadata": {},
   "outputs": [],
   "source": [
    "lasso_wn_mse = get_dif_mse([2], lasso)"
   ]
  },
  {
   "cell_type": "code",
   "execution_count": 54,
   "metadata": {},
   "outputs": [
    {
     "name": "stdout",
     "output_type": "stream",
     "text": [
      "Linear regression: MSE=0.009+-0.0, train_MSE=0.014, mean_alpha=0.001\n"
     ]
    }
   ],
   "source": [
    "print(\"Linear regression: MSE={}+-{}, train_MSE={}, mean_alpha={}\".format(\n",
    "    np.round(np.mean(lasso_wn_mse[:,0]),3), np.round(2*np.var(lasso_wn_mse[:,0]),3),\n",
    "    np.round(np.mean(lasso_wn_mse[:,1]),3), np.round(np.mean(lasso_wn_mse[:,3]),3)))"
   ]
  },
  {
   "cell_type": "code",
   "execution_count": 55,
   "metadata": {},
   "outputs": [],
   "source": [
    "arr_name.append('Lasso')\n",
    "arr_train.append(np.round(np.mean(lasso_wn_mse[:,1]),3))\n",
    "arr_test.append(np.round(np.mean(lasso_wn_mse[:,0]),3))\n",
    "arr_var.append(np.round(np.var(lasso_wn_mse[:,0]),3))"
   ]
  },
  {
   "cell_type": "markdown",
   "metadata": {},
   "source": [
    "### Tree"
   ]
  },
  {
   "cell_type": "code",
   "execution_count": 56,
   "metadata": {
    "scrolled": true
   },
   "outputs": [
    {
     "data": {
      "image/png": "[encoded data removed]",
      "text/plain": [
       "<Figure size 432x288 with 1 Axes>"
      ]
     },
     "metadata": {},
     "output_type": "display_data"
    },
    {
     "name": "stdout",
     "output_type": "stream",
     "text": [
      "Linear regression: MSE=0.029, train_MSE=0.011, wind=2, depth=5\n"
     ]
    }
   ],
   "source": [
    "res = get_dif(1,[2], tree, True)\n",
    "print(\"Linear regression: MSE={}, train_MSE={}, wind={}, depth={}\".format(np.round(res[0],3), \n",
    "    np.round(res[1],3), int(res[2]), int(res[3])))"
   ]
  },
  {
   "cell_type": "code",
   "execution_count": 57,
   "metadata": {},
   "outputs": [],
   "source": [
    "tree_wn_mse = get_dif_mse([2], tree)"
   ]
  },
  {
   "cell_type": "code",
   "execution_count": 58,
   "metadata": {},
   "outputs": [
    {
     "name": "stdout",
     "output_type": "stream",
     "text": [
      "Tree: MSE=0.05+-0.02, train_MSE=0.051, mean_depth=3.3\n"
     ]
    }
   ],
   "source": [
    "print(\"Tree: MSE={}+-{}, train_MSE={}, mean_depth={}\".format(np.round(np.mean(tree_wn_mse[:,0]),3), \n",
    "    np.round(2*np.var(tree_wn_mse[:,0]),3), np.round(np.mean(tree_wn_mse[:,1]),3), \n",
    "    np.round(np.mean(tree_wn_mse[:,3]),3)))"
   ]
  },
  {
   "cell_type": "code",
   "execution_count": 59,
   "metadata": {},
   "outputs": [],
   "source": [
    "arr_name.append('Tree')\n",
    "arr_train.append(np.round(np.mean(tree_wn_mse[:,1]),3))\n",
    "arr_test.append(np.round(np.mean(tree_wn_mse[:,0]),3))\n",
    "arr_var.append(np.round(np.var(tree_wn_mse[:,0]),3))"
   ]
  },
  {
   "cell_type": "markdown",
   "metadata": {},
   "source": [
    "### XGBoost"
   ]
  },
  {
   "cell_type": "code",
   "execution_count": 60,
   "metadata": {
    "scrolled": true
   },
   "outputs": [
    {
     "data": {
      "image/png": "[encoded data removed]",
      "text/plain": [
       "<Figure size 432x288 with 1 Axes>"
      ]
     },
     "metadata": {},
     "output_type": "display_data"
    },
    {
     "name": "stdout",
     "output_type": "stream",
     "text": [
      "Linear regression: MSE=0.029, train_MSE=0.011, wind=2, estim=100, depth=3\n"
     ]
    }
   ],
   "source": [
    "res = get_dif(1,[2], boost, True)\n",
    "print(\"Linear regression: MSE={}, train_MSE={}, wind={}, estim={}, depth={}\".format(np.round(res[0],3), \n",
    "    np.round(res[1],3), int(res[2]), int(res[3]), int(res[4])))"
   ]
  },
  {
   "cell_type": "code",
   "execution_count": 61,
   "metadata": {},
   "outputs": [],
   "source": [
    "boost_wn_mse = get_dif_mse([2], boost)"
   ]
  },
  {
   "cell_type": "code",
   "execution_count": 62,
   "metadata": {},
   "outputs": [
    {
     "name": "stdout",
     "output_type": "stream",
     "text": [
      "Tree: MSE=0.048+-0.019, train_MSE=0.049, mean_estim=83.0, mean_depth=2.05\n"
     ]
    }
   ],
   "source": [
    "print(\"Tree: MSE={}+-{}, train_MSE={}, mean_estim={}, mean_depth={}\".format(np.round(np.mean(boost_wn_mse[:,0]),3), \n",
    "    np.round(2*np.var(boost_wn_mse[:,0]),3), np.round(np.mean(boost_wn_mse[:,1]),3), \n",
    "    np.round(np.mean(boost_wn_mse[:,3]),3), np.round(np.mean(boost_wn_mse[:,4]),3)))"
   ]
  },
  {
   "cell_type": "code",
   "execution_count": 63,
   "metadata": {},
   "outputs": [],
   "source": [
    "arr_name.append('XGBoost')\n",
    "arr_train.append(np.round(np.mean(boost_wn_mse[:,1]),3))\n",
    "arr_test.append(np.round(np.mean(boost_wn_mse[:,0]),3))\n",
    "arr_var.append(np.round(np.var(boost_wn_mse[:,0]),3))"
   ]
  },
  {
   "cell_type": "markdown",
   "metadata": {},
   "source": [
    "### Результаты"
   ]
  },
  {
   "cell_type": "code",
   "execution_count": 64,
   "metadata": {},
   "outputs": [
    {
     "data": {
      "text/html": [
       "<div>\n",
       "<style scoped>\n",
       "    .dataframe tbody tr th:only-of-type {\n",
       "        vertical-align: middle;\n",
       "    }\n",
       "\n",
       "    .dataframe tbody tr th {\n",
       "        vertical-align: top;\n",
       "    }\n",
       "\n",
       "    .dataframe thead th {\n",
       "        text-align: right;\n",
       "    }\n",
       "</style>\n",
       "<table border=\"1\" class=\"dataframe\">\n",
       "  <thead>\n",
       "    <tr style=\"text-align: right;\">\n",
       "      <th></th>\n",
       "      <th>name</th>\n",
       "      <th>train</th>\n",
       "      <th>test</th>\n",
       "      <th>var</th>\n",
       "    </tr>\n",
       "  </thead>\n",
       "  <tbody>\n",
       "    <tr>\n",
       "      <th>0</th>\n",
       "      <td>Lin regr</td>\n",
       "      <td>0.014</td>\n",
       "      <td>0.009</td>\n",
       "      <td>0.000</td>\n",
       "    </tr>\n",
       "    <tr>\n",
       "      <th>1</th>\n",
       "      <td>Lasso</td>\n",
       "      <td>0.014</td>\n",
       "      <td>0.009</td>\n",
       "      <td>0.000</td>\n",
       "    </tr>\n",
       "    <tr>\n",
       "      <th>2</th>\n",
       "      <td>Tree</td>\n",
       "      <td>0.051</td>\n",
       "      <td>0.050</td>\n",
       "      <td>0.010</td>\n",
       "    </tr>\n",
       "    <tr>\n",
       "      <th>3</th>\n",
       "      <td>XGBoost</td>\n",
       "      <td>0.049</td>\n",
       "      <td>0.048</td>\n",
       "      <td>0.009</td>\n",
       "    </tr>\n",
       "  </tbody>\n",
       "</table>\n",
       "</div>"
      ],
      "text/plain": [
       "       name  train   test    var\n",
       "0  Lin regr  0.014  0.009  0.000\n",
       "1     Lasso  0.014  0.009  0.000\n",
       "2      Tree  0.051  0.050  0.010\n",
       "3   XGBoost  0.049  0.048  0.009"
      ]
     },
     "execution_count": 64,
     "metadata": {},
     "output_type": "execute_result"
    }
   ],
   "source": [
    "dic={'name':arr_name, 'train': arr_train, 'test': arr_test, 'var': arr_var}\n",
    "df=pd.DataFrame(data=dic)\n",
    "df"
   ]
  },
  {
   "cell_type": "markdown",
   "metadata": {
    "colab_type": "text",
    "id": "6IjVkTdQAUVT"
   },
   "source": [
    "# Несколько трендов с шумом, sd шума = 1, sd угла наклона = 0.25"
   ]
  },
  {
   "cell_type": "code",
   "execution_count": 13,
   "metadata": {
    "code_folding": [
     0
    ],
    "colab": {
     "base_uri": "https://localhost:8080/",
     "height": 83,
     "resources": {
      "http://localhost:8080/nbextensions/google.colab/files.js": {
       "data": "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",
       "headers": [
        [
         "content-type",
         "application/javascript"
        ]
       ],
       "ok": true,
       "status": 200,
       "status_text": "OK"
      }
     }
    },
    "colab_type": "code",
    "id": "l2MNalySCsSU",
    "outputId": "03be6226-3f89-4624-c173-40a8a41d31a2"
   },
   "outputs": [
    {
     "data": {
      "text/html": [
       "\n",
       "     <input type=\"file\" id=\"files-14200a5e-2eae-4df6-a844-abc4946a44c4\" name=\"files[]\" multiple disabled />\n",
       "     <output id=\"result-14200a5e-2eae-4df6-a844-abc4946a44c4\">\n",
       "      Upload widget is only available when the cell has been executed in the\n",
       "      current browser session. Please rerun this cell to enable.\n",
       "      </output>\n",
       "      <script src=\"/nbextensions/google.colab/files.js\"></script> "
      ],
      "text/plain": [
       "<IPython.core.display.HTML object>"
      ]
     },
     "metadata": {
      "tags": []
     },
     "output_type": "display_data"
    },
    {
     "name": "stdout",
     "output_type": "stream",
     "text": [
      "Saving difficultTrend_whiteNoise.csv to difficultTrend_whiteNoise.csv\n"
     ]
    }
   ],
   "source": [
    "# google colab\n",
    "from google.colab import files\n",
    "\n",
    "uploaded = files.upload()"
   ]
  },
  {
   "cell_type": "code",
   "execution_count": 113,
   "metadata": {
    "code_folding": [
     0
    ],
    "colab": {},
    "colab_type": "code",
    "id": "1-vnn5VWAUVW"
   },
   "outputs": [],
   "source": [
    "# data\n",
    "data = pd.read_csv(\"series1/difficultTrend_whiteNoise.csv\")\n",
    "n = data.shape[0]\n",
    "test_perc = 0.3\n",
    "test_ratio = int(test_perc*n)\n",
    "\n",
    "arr_name = []\n",
    "arr_train = []\n",
    "arr_test = []\n",
    "arr_var= []"
   ]
  },
  {
   "cell_type": "markdown",
   "metadata": {
    "colab_type": "text",
    "id": "F2Hd-yA7AUVd"
   },
   "source": [
    "### Лучший и худший случаи\n",
    "##### Худший - по предыдущему, теорерическая ошибка 1.25\n",
    "##### Лучший - из предыдущего вычитать среднее, посчитанное по последним n элементам, n подбирается кроссвалидацией. Теоретически равна 1"
   ]
  },
  {
   "cell_type": "code",
   "execution_count": 0,
   "metadata": {
    "colab": {},
    "colab_type": "code",
    "id": "rDiqLSuPAUVg",
    "outputId": "370063ae-ef5a-4951-9bbf-8ba18b0eb9db",
    "scrolled": true
   },
   "outputs": [
    {
     "name": "stdout",
     "output_type": "stream",
     "text": [
      "Linear regression: bounds MSE = (1.038, 1.216)\n"
     ]
    }
   ],
   "source": [
    "lower_bounds_winds = get_bounds()"
   ]
  },
  {
   "cell_type": "markdown",
   "metadata": {},
   "source": [
    "##### длина окна для каждого ряда и средняя длина окна"
   ]
  },
  {
   "cell_type": "code",
   "execution_count": 0,
   "metadata": {
    "colab": {},
    "colab_type": "code",
    "id": "jSIJiAdzAUVs",
    "outputId": "df4e6a31-eee1-4864-f4cb-77dbc94a3ad0"
   },
   "outputs": [
    {
     "data": {
      "image/png": "[encoded data removed]",
      "text/plain": [
       "<Figure size 432x288 with 1 Axes>"
      ]
     },
     "metadata": {
      "tags": []
     },
     "output_type": "display_data"
    },
    {
     "data": {
      "text/plain": [
       "188.9"
      ]
     },
     "execution_count": 56,
     "metadata": {
      "tags": []
     },
     "output_type": "execute_result"
    }
   ],
   "source": [
    "plt.plot(lower_bounds_winds)\n",
    "plt.show()\n",
    "np.mean(lower_bounds_winds)"
   ]
  },
  {
   "cell_type": "markdown",
   "metadata": {
    "colab_type": "text",
    "id": "_crAJpFVAUV4"
   },
   "source": [
    "### Линейная регрессия не на разностях"
   ]
  },
  {
   "cell_type": "code",
   "execution_count": 13,
   "metadata": {
    "colab": {},
    "colab_type": "code",
    "id": "64qZeXMhAUV6"
   },
   "outputs": [
    {
     "data": {
      "text/plain": [
       "array([  2,   3,   4,   5,   6,   7,   8,   9,  10,  11,  12,  13,  14,\n",
       "        15,  16,  17,  18,  19,  20,  25,  30,  35,  40,  45,  50,  55,\n",
       "        60,  65,  70,  75,  80,  85,  90,  95, 100, 105, 110, 115])"
      ]
     },
     "execution_count": 13,
     "metadata": {},
     "output_type": "execute_result"
    }
   ],
   "source": [
    "winds = np.array(range(2,20,1))\n",
    "winds = np.append(winds, np.array(range(20,120,5)))\n",
    "winds"
   ]
  },
  {
   "cell_type": "code",
   "execution_count": 0,
   "metadata": {
    "colab": {},
    "colab_type": "code",
    "id": "nvOwX0kdAUWF"
   },
   "outputs": [],
   "source": [
    "regr_mse = get_mse(winds)"
   ]
  },
  {
   "cell_type": "markdown",
   "metadata": {},
   "source": [
    "##### ошибка"
   ]
  },
  {
   "cell_type": "code",
   "execution_count": 0,
   "metadata": {
    "colab": {},
    "colab_type": "code",
    "id": "WfRdWIEZAUWZ",
    "outputId": "53a06111-e44c-44e7-fb9a-c28ef8c7fea8"
   },
   "outputs": [
    {
     "data": {
      "text/plain": [
       "1.1914692332405425"
      ]
     },
     "execution_count": 46,
     "metadata": {
      "tags": []
     },
     "output_type": "execute_result"
    }
   ],
   "source": [
    "regr_mse[0]"
   ]
  },
  {
   "cell_type": "markdown",
   "metadata": {
    "colab_type": "text",
    "id": "-QG-dclAAUXU"
   },
   "source": [
    "### Линейная регрессия на разностях"
   ]
  },
  {
   "cell_type": "code",
   "execution_count": 115,
   "metadata": {},
   "outputs": [],
   "source": [
    "winds = np.array(range(2,20,1))\n",
    "winds = np.append(winds, np.array(range(20,120,5)))"
   ]
  },
  {
   "cell_type": "code",
   "execution_count": 531,
   "metadata": {},
   "outputs": [
    {
     "data": {
      "image/png": "[encoded data removed]",
      "text/plain": [
       "<Figure size 432x288 with 1 Axes>"
      ]
     },
     "metadata": {},
     "output_type": "display_data"
    }
   ],
   "source": [
    "res = get_dif(1,winds, lin_regr, True)"
   ]
  },
  {
   "cell_type": "code",
   "execution_count": 119,
   "metadata": {
    "colab": {},
    "colab_type": "code",
    "id": "w5OwT0QuAUXX"
   },
   "outputs": [],
   "source": [
    "regr_dif_mse = get_dif_mse(winds, lin_regr)"
   ]
  },
  {
   "cell_type": "code",
   "execution_count": 120,
   "metadata": {},
   "outputs": [
    {
     "name": "stdout",
     "output_type": "stream",
     "text": [
      "Linear regression: MSE=1.105+-0.035, train_MSE=1.098, mean_wind=13.74\n"
     ]
    }
   ],
   "source": [
    "print(\"Linear regression: MSE={}+-{}, train_MSE={}, mean_wind={}\".format(\n",
    "    np.round(np.mean(regr_dif_mse[:,0]),3), np.round(2*np.var(regr_dif_mse[:,0]),3),\n",
    "    np.round(np.mean(regr_dif_mse[:,1]),3), np.mean(regr_dif_mse[:,2])))"
   ]
  },
  {
   "cell_type": "code",
   "execution_count": 533,
   "metadata": {},
   "outputs": [
    {
     "name": "stdout",
     "output_type": "stream",
     "text": [
      "Linear regression: MSE=1.117+-0.038, train_MSE=1.112, mean_wind=13.29\n"
     ]
    }
   ],
   "source": [
    "print(\"Linear regression: MSE={}+-{}, train_MSE={}, mean_wind={}\".format(\n",
    "    np.round(np.mean(regr_dif_mse[:,0]),3), np.round(2*np.var(regr_dif_mse[:,0]),3),\n",
    "    np.round(np.mean(regr_dif_mse[:,1]),3), np.mean(regr_dif_mse[:,2])))"
   ]
  },
  {
   "cell_type": "code",
   "execution_count": 534,
   "metadata": {
    "colab": {},
    "colab_type": "code",
    "id": "mqyvJBqPAUX3",
    "outputId": "07a62162-a7b1-4f29-8322-42dbf1fe1c44",
    "scrolled": true
   },
   "outputs": [
    {
     "data": {
      "image/png": "[encoded data removed]",
      "text/plain": [
       "<Figure size 432x288 with 1 Axes>"
      ]
     },
     "metadata": {},
     "output_type": "display_data"
    }
   ],
   "source": [
    "plt.plot(regr_dif_mse[:,0])\n",
    "plt.plot(regr_dif_mse[:,1])\n",
    "plt.show()"
   ]
  },
  {
   "cell_type": "code",
   "execution_count": 535,
   "metadata": {
    "colab": {},
    "colab_type": "code",
    "id": "xoRK3uiCAUXo",
    "outputId": "4c11303f-9a20-4af5-a9a3-8ca3b704b0ad",
    "scrolled": false
   },
   "outputs": [
    {
     "data": {
      "text/plain": [
       "array([13, 40, 14, 18,  9, 19,  2, 17,  3, 13, 12, 13,  8, 11,  8, 17, 16,\n",
       "        5,  8, 17, 18, 11, 14, 16,  2, 25,  6, 10,  2, 13, 10, 30, 18, 40,\n",
       "       17, 17,  7, 10, 14,  7, 55,  2, 11, 10, 18, 35, 10,  5, 10, 25,  2,\n",
       "       14, 17, 25, 19,  8,  4, 13, 14, 18, 20, 12, 13, 13, 18,  2,  6,  5,\n",
       "       12, 11,  2, 25,  4, 11, 18, 12,  2, 15, 14,  9, 18,  3,  2, 17, 14,\n",
       "        6, 14,  6,  8, 13, 19,  9, 30, 20,  6,  3, 25,  2, 11, 14])"
      ]
     },
     "execution_count": 535,
     "metadata": {},
     "output_type": "execute_result"
    }
   ],
   "source": [
    "regr_dif_mse[:,2].astype('int')"
   ]
  },
  {
   "cell_type": "code",
   "execution_count": 537,
   "metadata": {},
   "outputs": [],
   "source": [
    "arr_name.append('Lin regr')\n",
    "arr_train.append(np.round(np.mean(regr_dif_mse[:,1]),3))\n",
    "arr_test.append(np.round(np.mean(regr_dif_mse[:,0]),3))\n",
    "arr_var.append(np.round(np.var(regr_dif_mse[:,0]),3))"
   ]
  },
  {
   "cell_type": "markdown",
   "metadata": {
    "colab_type": "text",
    "id": "1CwE4g5qAUX-"
   },
   "source": [
    "### Lasso  на разностях"
   ]
  },
  {
   "cell_type": "code",
   "execution_count": 538,
   "metadata": {
    "colab": {},
    "colab_type": "code",
    "id": "POskmlf2AUYF"
   },
   "outputs": [],
   "source": [
    "lasso_dif_mse = get_dif_mse(winds, lasso)"
   ]
  },
  {
   "cell_type": "code",
   "execution_count": 545,
   "metadata": {
    "colab": {
     "base_uri": "https://localhost:8080/",
     "height": 34
    },
    "colab_type": "code",
    "id": "QD3zdHDJAUYL",
    "outputId": "276f1923-dae6-4076-a72c-a756e2dc99ba"
   },
   "outputs": [
    {
     "name": "stdout",
     "output_type": "stream",
     "text": [
      "Lasso: MSE=1.12+-0.041, train_MSE=1.093, mean_wind=45.24, mean_alpha=0.039\n"
     ]
    }
   ],
   "source": [
    "print(\"Lasso: MSE={}+-{}, train_MSE={}, mean_wind={}, mean_alpha={}\".format(\n",
    "    np.round(np.mean(lasso_dif_mse[:,0]),3), np.round(2*np.var(lasso_dif_mse[:,0]),3),\n",
    "    np.round(np.mean(lasso_dif_mse[:,1]),3), np.mean(lasso_dif_mse[:,2]), \n",
    "    np.round(np.mean(lasso_dif_mse[:,3]), 3)))"
   ]
  },
  {
   "cell_type": "code",
   "execution_count": 546,
   "metadata": {
    "colab": {
     "base_uri": "https://localhost:8080/",
     "height": 269
    },
    "colab_type": "code",
    "id": "ZB_2k8ztAUYb",
    "outputId": "d2c85c98-da58-4ce9-aedb-dc66f1f75018",
    "scrolled": false
   },
   "outputs": [
    {
     "data": {
      "image/png": "[encoded data removed]",
      "text/plain": [
       "<Figure size 432x288 with 1 Axes>"
      ]
     },
     "metadata": {},
     "output_type": "display_data"
    }
   ],
   "source": [
    "plt.plot(lasso_dif_mse[:,0])\n",
    "plt.plot(lasso_dif_mse[:,1])\n",
    "plt.show()"
   ]
  },
  {
   "cell_type": "code",
   "execution_count": 547,
   "metadata": {
    "colab": {
     "base_uri": "https://localhost:8080/",
     "height": 156
    },
    "colab_type": "code",
    "id": "4rOGY8CjAUYS",
    "outputId": "47e5cacc-531c-4491-b0a3-428f37bc9d7e",
    "scrolled": false
   },
   "outputs": [
    {
     "data": {
      "text/plain": [
       "array([ 17,  65,  95,  18,   9,  19,   5,  40,  95,  40,  35,  13,  50,\n",
       "       115,  80,  17,  16, 110,   8,  17,  30,  16,  14, 105,   2,  25,\n",
       "        30,  10,  85,  13, 100,  30,  30,  40,  17, 105,  17,  60, 105,\n",
       "         7,  70,  85,  16,  10,  18, 115,  10,  14,  35, 115,  18,  14,\n",
       "        17, 115,  19,  50, 110,  55,  14,  55,  90,  90,  70,  13,  18,\n",
       "        65,   6,  60,  30,  11,   2,  25, 105,  30,  60,  90,  45,  15,\n",
       "        25,  70,  25, 105,   5,  25,  14, 115,  45, 100, 115,  25,  19,\n",
       "         9, 110,  30, 115,   3,  50,   9,  11,  14])"
      ]
     },
     "execution_count": 547,
     "metadata": {},
     "output_type": "execute_result"
    }
   ],
   "source": [
    "lasso_dif_mse[:,2].astype('int')"
   ]
  },
  {
   "cell_type": "code",
   "execution_count": 548,
   "metadata": {},
   "outputs": [],
   "source": [
    "arr_name.append('Lasso')\n",
    "arr_train.append(np.round(np.mean(lasso_dif_mse[:,1]),3))\n",
    "arr_test.append(np.round(np.mean(lasso_dif_mse[:,0]),3))\n",
    "arr_var.append(np.round(np.var(lasso_dif_mse[:,0]),3))"
   ]
  },
  {
   "cell_type": "markdown",
   "metadata": {
    "colab_type": "text",
    "id": "1CwE4g5qAUX-"
   },
   "source": [
    "### Tree  на разностях"
   ]
  },
  {
   "cell_type": "code",
   "execution_count": 540,
   "metadata": {
    "colab": {},
    "colab_type": "code",
    "id": "POskmlf2AUYF"
   },
   "outputs": [],
   "source": [
    "tree_dif_mse = get_dif_mse(winds, tree)"
   ]
  },
  {
   "cell_type": "code",
   "execution_count": 541,
   "metadata": {},
   "outputs": [
    {
     "name": "stdout",
     "output_type": "stream",
     "text": [
      "Tree: MSE=1.238+-0.075, train_MSE=1.176, mean_wind=38.6, mean_depth=1.49\n"
     ]
    }
   ],
   "source": [
    "print(\"Tree: MSE={}+-{}, train_MSE={}, mean_wind={}, mean_depth={}\".format(\n",
    "    np.round(np.mean(tree_dif_mse[:,0]),3), np.round(2*np.var(tree_dif_mse[:,0]),3),\n",
    "    np.round(np.mean(tree_dif_mse[:,1]),3), np.mean(tree_dif_mse[:,2]), \n",
    "    np.round(np.mean(tree_dif_mse[:,3]), 3)))"
   ]
  },
  {
   "cell_type": "code",
   "execution_count": 549,
   "metadata": {
    "colab": {
     "base_uri": "https://localhost:8080/",
     "height": 269
    },
    "colab_type": "code",
    "id": "ZB_2k8ztAUYb",
    "outputId": "d2c85c98-da58-4ce9-aedb-dc66f1f75018",
    "scrolled": true
   },
   "outputs": [
    {
     "data": {
      "image/png": "[encoded data removed]",
      "text/plain": [
       "<Figure size 432x288 with 1 Axes>"
      ]
     },
     "metadata": {},
     "output_type": "display_data"
    }
   ],
   "source": [
    "plt.plot(tree_dif_mse[:,0])\n",
    "plt.plot(tree_dif_mse[:,1])\n",
    "plt.show()"
   ]
  },
  {
   "cell_type": "code",
   "execution_count": 550,
   "metadata": {},
   "outputs": [
    {
     "name": "stdout",
     "output_type": "stream",
     "text": [
      "[  5 110  95   8   3  18  15  90   4  25   2  12  60 100  70 115   7 110\n",
      "   2  20  90   8  12 110   2  30   3 115   2   2 115  17   6 100   2 100\n",
      "   6   2 105   3  50  85   6   3  20   8   2   2  90 115 115   5  40 105\n",
      "  17   6 110   8   9 110  10 115  75   7  90 110   2   4  25  17   2  80\n",
      "  17  14   2  11  45  75   5   5  16 105   2  12   8   3   6 100   8   4\n",
      "   4   4 115   7 115   3   7   6  14   3]\n"
     ]
    }
   ],
   "source": [
    "print(tree_dif_mse[:,2].astype('int'))"
   ]
  },
  {
   "cell_type": "code",
   "execution_count": 551,
   "metadata": {},
   "outputs": [],
   "source": [
    "arr_name.append('Tree')\n",
    "arr_train.append(np.round(np.mean(tree_dif_mse[:,1]),3))\n",
    "arr_test.append(np.round(np.mean(tree_dif_mse[:,0]),3))\n",
    "arr_var.append(np.round(np.var(tree_dif_mse[:,0]),3))"
   ]
  },
  {
   "cell_type": "markdown",
   "metadata": {},
   "source": [
    "### Boosting  на разностях"
   ]
  },
  {
   "cell_type": "code",
   "execution_count": 552,
   "metadata": {},
   "outputs": [],
   "source": [
    "winds_boost = np.array(range(2,20,3))\n",
    "winds_boost = np.append(winds_boost, np.array(range(20,141,15)))"
   ]
  },
  {
   "cell_type": "code",
   "execution_count": 555,
   "metadata": {
    "colab": {},
    "colab_type": "code",
    "id": "POskmlf2AUYF"
   },
   "outputs": [],
   "source": [
    "boost_dif_mse = get_dif_mse(winds_boost, boost)"
   ]
  },
  {
   "cell_type": "code",
   "execution_count": 556,
   "metadata": {
    "colab": {
     "base_uri": "https://localhost:8080/",
     "height": 34
    },
    "colab_type": "code",
    "id": "QD3zdHDJAUYL",
    "outputId": "276f1923-dae6-4076-a72c-a756e2dc99ba",
    "scrolled": true
   },
   "outputs": [
    {
     "name": "stdout",
     "output_type": "stream",
     "text": [
      "Tree: MSE=1.148+-0.043, train_MSE=1.111, mean_wind=54.71, mean_estim=45.6, mean_depth=1.56\n"
     ]
    }
   ],
   "source": [
    "print(\"Tree: MSE={}+-{}, train_MSE={}, mean_wind={}, mean_estim={}, mean_depth={}\".format(\n",
    "    np.round(np.mean(boost_dif_mse[:,0]),3), np.round(2*np.var(boost_dif_mse[:,0]),3),\n",
    "    np.round(np.mean(boost_dif_mse[:,1]),3), np.mean(boost_dif_mse[:,2]), \n",
    "    np.round(np.mean(boost_dif_mse[:,3]), 3), np.round(np.mean(boost_dif_mse[:,4]), 3)))"
   ]
  },
  {
   "cell_type": "code",
   "execution_count": 557,
   "metadata": {
    "colab": {
     "base_uri": "https://localhost:8080/",
     "height": 269
    },
    "colab_type": "code",
    "id": "ZB_2k8ztAUYb",
    "outputId": "d2c85c98-da58-4ce9-aedb-dc66f1f75018",
    "scrolled": true
   },
   "outputs": [
    {
     "data": {
      "image/png": "[encoded data removed]",
      "text/plain": [
       "<Figure size 432x288 with 1 Axes>"
      ]
     },
     "metadata": {},
     "output_type": "display_data"
    }
   ],
   "source": [
    "plt.plot(boost_dif_mse[:,0])\n",
    "plt.plot(boost_dif_mse[:,1])\n",
    "plt.show()"
   ]
  },
  {
   "cell_type": "code",
   "execution_count": 558,
   "metadata": {},
   "outputs": [
    {
     "name": "stdout",
     "output_type": "stream",
     "text": [
      "[ 14  65 140  11   8  20   2  50   2  20  35  65  11 125  80 125  17 110\n",
      "   8  14  95  17  17 110  17  80  20  35  95  17 110  17  35  80  17 110\n",
      "  35 125 140   8  95  80  20  20  17 110  14   5  17 140 140  14  11 140\n",
      "  17   8 110  35  17 140  20 125  65 140  80 140   5  65  11  11   2  35\n",
      " 110  17  80  11 140  65  35  65  17  95   2  20  11 140  35 125 140  14\n",
      "  20  20 140  11 125   2  50   8  14   8]\n"
     ]
    }
   ],
   "source": [
    "print(boost_dif_mse[:,2].astype('int'))"
   ]
  },
  {
   "cell_type": "code",
   "execution_count": 559,
   "metadata": {
    "colab": {},
    "colab_type": "code",
    "id": "SJFJallSAUYs",
    "scrolled": true
   },
   "outputs": [
    {
     "data": {
      "text/plain": [
       "array([ 60,  20,  20,  40,  40,  80,  40,  40,  40,  60,  20,  20,  60,\n",
       "        20, 100,  20,  40,  20,  60,  60,  40,  20,  40, 100,  20,  20,\n",
       "        20,  40,  20,  40,  20, 120, 120,  20,  60,  20,  60,  20,  20,\n",
       "        80,  60,  40,  40,  40,  20,  60,  80,  60,  20, 100,  20, 120,\n",
       "        40,  20, 100, 100,  20,  20,  40,  20,  20,  20,  60,  20,  80,\n",
       "       100,  20,  20,  20,  80,  40,  40,  20,  20,  60,  20,  20,  60,\n",
       "        40,  40, 100,  20,  20,  40, 120,  20,  20,  20,  20,  40,  20,\n",
       "        40, 100, 100,  20,  20,  60,  20, 120,  60])"
      ]
     },
     "execution_count": 559,
     "metadata": {},
     "output_type": "execute_result"
    }
   ],
   "source": [
    "boost_dif_mse[:,3].astype('int')"
   ]
  },
  {
   "cell_type": "code",
   "execution_count": 560,
   "metadata": {},
   "outputs": [
    {
     "data": {
      "text/plain": [
       "array([1, 2, 3, 2, 2, 1, 1, 1, 1, 1, 2, 3, 1, 1, 1, 3, 3, 2, 1, 2, 1, 1,\n",
       "       2, 1, 2, 2, 1, 1, 1, 2, 1, 1, 1, 3, 1, 1, 1, 1, 1, 1, 2, 1, 2, 2,\n",
       "       3, 2, 1, 1, 3, 1, 2, 1, 2, 1, 1, 1, 1, 1, 2, 1, 1, 1, 1, 2, 1, 1,\n",
       "       2, 2, 3, 1, 1, 3, 1, 3, 2, 3, 1, 2, 3, 2, 1, 1, 1, 3, 1, 2, 3, 1,\n",
       "       2, 1, 3, 1, 1, 1, 1, 1, 2, 1, 1, 1])"
      ]
     },
     "execution_count": 560,
     "metadata": {},
     "output_type": "execute_result"
    }
   ],
   "source": [
    "boost_dif_mse[:,4].astype('int')"
   ]
  },
  {
   "cell_type": "code",
   "execution_count": 561,
   "metadata": {},
   "outputs": [],
   "source": [
    "arr_name.append('XGBoost')\n",
    "arr_train.append(np.round(np.mean(boost_dif_mse[:,1]),3))\n",
    "arr_test.append(np.round(np.mean(boost_dif_mse[:,0]),3))\n",
    "arr_var.append(np.round(np.var(boost_dif_mse[:,0]),3))"
   ]
  },
  {
   "cell_type": "markdown",
   "metadata": {},
   "source": [
    "### Результаты"
   ]
  },
  {
   "cell_type": "code",
   "execution_count": 23,
   "metadata": {},
   "outputs": [
    {
     "data": {
      "text/plain": [
       "array([0.014, 0.014, 0.019, 0.015])"
      ]
     },
     "execution_count": 23,
     "metadata": {},
     "output_type": "execute_result"
    }
   ],
   "source": [
    "var = [0.019, 0.02, 0.037, 0.022]\n",
    "var1 = list(map(lambda x : x**.5/10, var))\n",
    "np.round(var1,3)"
   ]
  },
  {
   "cell_type": "code",
   "execution_count": 565,
   "metadata": {},
   "outputs": [
    {
     "data": {
      "text/html": [
       "<div>\n",
       "<style scoped>\n",
       "    .dataframe tbody tr th:only-of-type {\n",
       "        vertical-align: middle;\n",
       "    }\n",
       "\n",
       "    .dataframe tbody tr th {\n",
       "        vertical-align: top;\n",
       "    }\n",
       "\n",
       "    .dataframe thead th {\n",
       "        text-align: right;\n",
       "    }\n",
       "</style>\n",
       "<table border=\"1\" class=\"dataframe\">\n",
       "  <thead>\n",
       "    <tr style=\"text-align: right;\">\n",
       "      <th></th>\n",
       "      <th>name</th>\n",
       "      <th>train</th>\n",
       "      <th>test</th>\n",
       "      <th>var</th>\n",
       "    </tr>\n",
       "  </thead>\n",
       "  <tbody>\n",
       "    <tr>\n",
       "      <th>0</th>\n",
       "      <td>Lin regr</td>\n",
       "      <td>1.112</td>\n",
       "      <td>1.117</td>\n",
       "      <td>0.019</td>\n",
       "    </tr>\n",
       "    <tr>\n",
       "      <th>1</th>\n",
       "      <td>Lasso</td>\n",
       "      <td>1.093</td>\n",
       "      <td>1.120</td>\n",
       "      <td>0.020</td>\n",
       "    </tr>\n",
       "    <tr>\n",
       "      <th>2</th>\n",
       "      <td>Tree</td>\n",
       "      <td>1.176</td>\n",
       "      <td>1.238</td>\n",
       "      <td>0.037</td>\n",
       "    </tr>\n",
       "    <tr>\n",
       "      <th>3</th>\n",
       "      <td>XGBoost</td>\n",
       "      <td>1.111</td>\n",
       "      <td>1.148</td>\n",
       "      <td>0.022</td>\n",
       "    </tr>\n",
       "  </tbody>\n",
       "</table>\n",
       "</div>"
      ],
      "text/plain": [
       "       name  train   test    var\n",
       "0  Lin regr  1.112  1.117  0.019\n",
       "1     Lasso  1.093  1.120  0.020\n",
       "2      Tree  1.176  1.238  0.037\n",
       "3   XGBoost  1.111  1.148  0.022"
      ]
     },
     "execution_count": 565,
     "metadata": {},
     "output_type": "execute_result"
    }
   ],
   "source": [
    "dic={'name':arr_name, 'train': arr_train, 'test': arr_test, 'var': arr_var}\n",
    "df=pd.DataFrame(data=dic)\n",
    "df"
   ]
  }
 ],
 "metadata": {
  "colab": {
   "collapsed_sections": [
    "6IjVkTdQAUVT",
    "F2Hd-yA7AUVd",
    "_crAJpFVAUV4",
    "-QG-dclAAUXU"
   ],
   "name": "predict.ipynb",
   "provenance": [],
   "version": "0.3.2"
  },
  "kernelspec": {
   "display_name": "Python 3",
   "language": "python",
   "name": "python3"
  },
  "language_info": {
   "codemirror_mode": {
    "name": "ipython",
    "version": 3
   },
   "file_extension": ".py",
   "mimetype": "text/x-python",
   "name": "python",
   "nbconvert_exporter": "python",
   "pygments_lexer": "ipython3",
   "version": "3.6.7"
  }
 },
 "nbformat": 4,
 "nbformat_minor": 1
}
