{
 "cells": [
  {
   "cell_type": "code",
   "execution_count": 4,
   "metadata": {},
   "outputs": [],
   "source": [
    "import pandas as pd\n",
    "import numpy as np\n",
    "from matplotlib import pyplot as plt\n",
    "import seaborn as sns\n",
    "import random\n",
    "%matplotlib inline\n",
    "plt.style.use('seaborn-poster')"
   ]
  },
  {
   "cell_type": "code",
   "execution_count": 9,
   "metadata": {
    "code_folding": []
   },
   "outputs": [],
   "source": [
    "class SeriesGenerator():\n",
    "    def __init__(self, noise_mean = 0, noise_sigma = 1, trend_mean = 0, trend_sigma = 0.5, length = 1000):\n",
    "        self.noise_mean = noise_mean\n",
    "        self.noise_sigma = noise_sigma\n",
    "        self.trend_mean = trend_mean\n",
    "        self.trend_sigma = trend_sigma\n",
    "        self.length = length\n",
    "    \n",
    "    \n",
    "    def white_noise(self):\n",
    "        eps = np.random.normal(self.noise_mean, self.noise_sigma, self.length)\n",
    "        ksi = np.cumsum(eps)\n",
    "        return ksi\n",
    "    \n",
    "    def geometric_brownian_motion(self):\n",
    "        eps = np.random.normal(self.noise_mean, self.noise_sigma, self.length)\n",
    "        ksi = np.cumsum(eps)\n",
    "        eps_ksi = np.exp(ksi)\n",
    "        return eps_ksi\n",
    "    \n",
    "    def linear_trend(self):\n",
    "        trend = np.random.normal(self.trend_mean, self.trend_sigma, 1) * np.arange(1, self.length + 1)\n",
    "        return trend\n",
    "    \n",
    "    def trend_whiteNoise(self):\n",
    "        trend = np.random.normal(self.trend_mean, self.trend_sigma, 1) * np.arange(1, self.length + 1)\n",
    "        eps = np.random.normal(self.noise_mean, self.noise_sigma, self.length)\n",
    "        ksi = np.cumsum(eps)\n",
    "        return trend + ksi\n",
    "    \n",
    "    def difficultTrend_whiteNoise(self, exp_freq = 200):\n",
    "        eps = np.random.normal(self.noise_mean, self.noise_sigma , self.length)\n",
    "        ksi = np.cumsum(eps)\n",
    "        frequency = np.random.exponential(exp_freq, 10)\n",
    "        frequency = [int(round(x, 0)) for x in np.cumsum(frequency) if x < self.length]\n",
    "        frequency.extend([self.length])\n",
    "    \n",
    "        trend = np.empty(shape = (self.length))\n",
    "        range_start = 0\n",
    "        \n",
    "        for freq in frequency:\n",
    "            current_coef = np.random.normal(self.trend_mean, self.trend_sigma, 1)[0]\n",
    "            if range_start==0:\n",
    "                trend[range_start:freq] = current_coef * np.arange(range_start + 1, freq + 1)\n",
    "            else:\n",
    "                trend[range_start:freq] = current_coef * np.arange(range_start + 1, freq + 1) + (trend[range_start - 1] - current_coef * (range_start))\n",
    "            \n",
    "            range_start = freq\n",
    "        \n",
    "        generated_ts = ksi + trend\n",
    "     \n",
    "        return generated_ts  "
   ]
  },
  {
   "cell_type": "code",
   "execution_count": 22,
   "metadata": {},
   "outputs": [],
   "source": [
    "series_generator = SeriesGenerator()\n",
    "\n",
    "white_noise = pd.DataFrame()\n",
    "geometric_brownian_motion = pd.DataFrame()\n",
    "linear_trend = pd.DataFrame()\n",
    "trend_whiteNoise = pd.DataFrame()\n",
    "difficultTrend_whiteNoise = pd.DataFrame()\n",
    "\n",
    "for i in range(1, 101):\n",
    "    white_noise['series' + str(i)] = series_generator.white_noise()\n",
    "    geometric_brownian_motion['series' + str(i)] = series_generator.geometric_brownian_motion()\n",
    "    linear_trend['series' + str(i)] = series_generator.linear_trend()\n",
    "    trend_whiteNoise['series' + str(i)] = series_generator.trend_whiteNoise()\n",
    "    difficultTrend_whiteNoise['series' + str(i)] = series_generator.difficultTrend_whiteNoise()\n",
    "\n",
    "difficult_trend = SeriesGenerator(noise_sigma = 0)\n",
    "\n",
    "difficult_trend_df = pd.DataFrame()\n",
    "for i in range(1, 101):\n",
    "    difficult_trend_df['series' + str(i)] = difficult_trend.difficultTrend_whiteNoise()"
   ]
  },
  {
   "cell_type": "code",
   "execution_count": 23,
   "metadata": {},
   "outputs": [],
   "source": [
    "difficult_trend_df.to_csv('difficult_trend.csv', index=False)"
   ]
  },
  {
   "cell_type": "code",
   "execution_count": null,
   "metadata": {},
   "outputs": [],
   "source": [
    "geometric_brownian_motion.to_csv('geometric_brownian_motion.csv', index=False)\n",
    "linear_trend.to_csv('linear_trend.csv', index=False)\n",
    "white_noise.to_csv('white_noise.csv', index=False)\n",
    "trend_whiteNoise.to_csv('trend_whiteNoise.csv', index=False)\n",
    "difficult_trend_df.to_csv('difficult_trend.csv', index=False)\n",
    "difficultTrend_whiteNoise.to_csv('difficultTrend_whiteNoise.csv', index=False)"
   ]
  }
 ],
 "metadata": {
  "kernelspec": {
   "display_name": "Python 3",
   "language": "python",
   "name": "python3"
  },
  "language_info": {
   "codemirror_mode": {
    "name": "ipython",
    "version": 3
   },
   "file_extension": ".py",
   "mimetype": "text/x-python",
   "name": "python",
   "nbconvert_exporter": "python",
   "pygments_lexer": "ipython3",
   "version": "3.6.7"
  }
 },
 "nbformat": 4,
 "nbformat_minor": 2
}
